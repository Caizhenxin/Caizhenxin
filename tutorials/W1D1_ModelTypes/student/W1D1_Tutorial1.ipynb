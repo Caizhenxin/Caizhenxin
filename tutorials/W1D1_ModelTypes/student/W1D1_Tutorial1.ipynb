{
  "cells": [
    {
      "cell_type": "markdown",
      "metadata": {
        "id": "view-in-github",
        "colab_type": "text"
      },
      "source": [
        "<a href=\"https://colab.research.google.com/github/Caizhenxin/Caizhenxin/blob/main/tutorials/W1D1_ModelTypes/student/W1D1_Tutorial1.ipynb\" target=\"_parent\"><img src=\"https://colab.research.google.com/assets/colab-badge.svg\" alt=\"Open In Colab\"/></a>"
      ]
    },
    {
      "cell_type": "markdown",
      "metadata": {
        "execution": {},
        "id": "z0K_JP_dYNVL"
      },
      "source": [
        "# Tutorial 1: \"What\" models\n",
        "\n",
        "**Week 1, Day 1: Model Types**\n",
        "\n",
        "**By Neuromatch Academy**\n",
        "\n",
        "__Content creators:__ Matt Laporte, Byron Galbraith, Konrad Kording\n",
        "\n",
        "__Content reviewers:__ Dalin Guo, Aishwarya Balwani, Madineh Sarvestani, Maryam Vaziri-Pashkam, Michael Waskom, Ella Batty\n",
        "\n",
        "__Production editors:__ Gagana B, Spiros Chavlis\n",
        "\n",
        "<br>\n",
        "\n",
        "We would like to acknowledge [Steinmetz _et al._ (2019)](https://www.nature.com/articles/s41586-019-1787-x) for sharing their data, a subset of which is used here."
      ]
    },
    {
      "cell_type": "markdown",
      "metadata": {
        "execution": {},
        "id": "FazT4Bt2YNVN"
      },
      "source": [
        "___\n",
        "# Tutorial Objectives\n",
        "\n",
        "*Estimated timing of tutorial: 50 minutes*\n",
        "\n",
        "This is tutorial 1 of a 3-part series on different flavors of models used to understand neural data. In this tutorial we will explore 'What' models, used to describe the data. To understand what our data looks like, we will visualize it in different ways. Then we will compare it to simple mathematical models. Specifically, we will:\n",
        "\n",
        "- Load a dataset with spiking activity from hundreds of neurons and understand how it is organized\n",
        "- Make plots to visualize characteristics of the spiking activity across the population\n",
        "- Compute the distribution of \"inter-spike intervals\" (ISIs) for a single neuron\n",
        "- Consider several formal models of this distribution's shape and fit them to the data \"by hand\""
      ]
    },
    {
      "cell_type": "code",
      "execution_count": 1,
      "metadata": {
        "execution": {},
        "id": "Rfp785wKYNVN",
        "outputId": "b16ed377-dda2-4ec3-c14d-2f1b4528a8a0",
        "colab": {
          "base_uri": "https://localhost:8080/",
          "height": 518
        }
      },
      "outputs": [
        {
          "output_type": "stream",
          "name": "stdout",
          "text": [
            "If you want to download the slides: https://osf.io/download/6dxwe/\n"
          ]
        },
        {
          "output_type": "execute_result",
          "data": {
            "text/plain": [
              "<IPython.lib.display.IFrame at 0x7d33ad89dd90>"
            ],
            "text/html": [
              "\n",
              "        <iframe\n",
              "            width=\"854\"\n",
              "            height=\"480\"\n",
              "            src=\"https://mfr.ca-1.osf.io/render?url=https://osf.io/6dxwe/?direct%26mode=render%26action=download%26mode=render\"\n",
              "            frameborder=\"0\"\n",
              "            allowfullscreen\n",
              "            \n",
              "        ></iframe>\n",
              "        "
            ]
          },
          "metadata": {},
          "execution_count": 1
        }
      ],
      "source": [
        "\n",
        "# @title Tutorial slides\n",
        "# @markdown These are the slides for the videos in all tutorials today\n",
        "from IPython.display import IFrame\n",
        "link_id = \"6dxwe\"\n",
        "print(f\"If you want to download the slides: https://osf.io/download/{link_id}/\")\n",
        "IFrame(src=f\"https://mfr.ca-1.osf.io/render?url=https://osf.io/{link_id}/?direct%26mode=render%26action=download%26mode=render\", width=854, height=480)"
      ]
    },
    {
      "cell_type": "markdown",
      "metadata": {
        "execution": {},
        "id": "EfWrt-PDYNVO"
      },
      "source": [
        "---\n",
        "# Setup\n",
        "\n"
      ]
    },
    {
      "cell_type": "code",
      "execution_count": 2,
      "metadata": {
        "cellView": "form",
        "execution": {},
        "id": "XPWRoXjIYNVP",
        "outputId": "777d2251-f531-4747-e3c3-79e58ad0d75c",
        "colab": {
          "base_uri": "https://localhost:8080/"
        }
      },
      "outputs": [
        {
          "output_type": "stream",
          "name": "stdout",
          "text": [
            "  Preparing metadata (setup.py) ... \u001b[?25l\u001b[?25hdone\n",
            "  Preparing metadata (setup.py) ... \u001b[?25l\u001b[?25hdone\n",
            "\u001b[2K   \u001b[90m━━━━━━━━━━━━━━━━━━━━━━━━━━━━━━━━━━━━━━━━\u001b[0m \u001b[32m1.6/1.6 MB\u001b[0m \u001b[31m16.6 MB/s\u001b[0m eta \u001b[36m0:00:00\u001b[0m\n",
            "\u001b[?25h  Building wheel for vibecheck (setup.py) ... \u001b[?25l\u001b[?25hdone\n",
            "  Building wheel for datatops (setup.py) ... \u001b[?25l\u001b[?25hdone\n"
          ]
        }
      ],
      "source": [
        "# @title Install and import feedback gadget\n",
        "\n",
        "!pip3 install vibecheck datatops --quiet\n",
        "\n",
        "from vibecheck import DatatopsContentReviewContainer\n",
        "def content_review(notebook_section: str):\n",
        "    return DatatopsContentReviewContainer(\n",
        "        \"\",  # No text prompt\n",
        "        notebook_section,\n",
        "        {\n",
        "            \"url\": \"https://pmyvdlilci.execute-api.us-east-1.amazonaws.com/klab\",\n",
        "            \"name\": \"neuromatch_cn\",\n",
        "            \"user_key\": \"y1x3mpx5\",\n",
        "        },\n",
        "    ).render()\n",
        "\n",
        "\n",
        "feedback_prefix = \"W1D1_T1\""
      ]
    },
    {
      "cell_type": "markdown",
      "metadata": {
        "execution": {},
        "id": "AcFL3Cv2YNVP"
      },
      "source": [
        "Python requires you to explicitly \"import\" libraries before their functions are available to use. We will always specify our imports at the beginning of each notebook or script."
      ]
    },
    {
      "cell_type": "code",
      "execution_count": 3,
      "metadata": {
        "execution": {},
        "pycharm": {
          "name": "#%%\n"
        },
        "id": "1Mgf3U6rYNVQ"
      },
      "outputs": [],
      "source": [
        "import numpy as np\n",
        "import matplotlib.pyplot as plt"
      ]
    },
    {
      "cell_type": "markdown",
      "metadata": {
        "execution": {},
        "id": "iSAyaDQ4YNVQ"
      },
      "source": [
        "Tutorial notebooks typically begin with several set-up steps that are hidden from view by default.\n",
        "\n",
        "**Important:** Even though the code is hidden, you still need to run it so that the rest of the notebook can work properly. Step through each cell, either by pressing the play button in the upper-left-hand corner or with a keyboard shortcut (`Cmd-Return` on a Mac, `Ctrl-Enter` otherwise). A number will appear inside the brackets (e.g. `[3]`) to tell you that the cell was executed and what order that happened in.\n",
        "\n",
        "If you are curious to see what is going on inside each cell, you can double click to expand. Once expanded, double-click the white space to the right of the editor to collapse again."
      ]
    },
    {
      "cell_type": "code",
      "execution_count": 4,
      "metadata": {
        "execution": {},
        "pycharm": {
          "name": "#%%\n"
        },
        "id": "JI7pa2FDYNVR"
      },
      "outputs": [],
      "source": [
        "# @title Figure Settings\n",
        "import logging\n",
        "logging.getLogger('matplotlib.font_manager').disabled = True\n",
        "\n",
        "import ipywidgets as widgets  # interactive display\n",
        "%matplotlib inline\n",
        "%config InlineBackend.figure_format = 'retina'\n",
        "plt.style.use(\"https://raw.githubusercontent.com/NeuromatchAcademy/course-content/main/nma.mplstyle\")"
      ]
    },
    {
      "cell_type": "code",
      "execution_count": 5,
      "metadata": {
        "execution": {},
        "id": "zoF7s3yWYNVR"
      },
      "outputs": [],
      "source": [
        "# @title Plotting functions\n",
        "\n",
        "def plot_isis(single_neuron_isis):\n",
        "  plt.hist(single_neuron_isis, bins=50, histtype=\"stepfilled\")\n",
        "  plt.axvline(single_neuron_isis.mean(), color=\"orange\", label=\"Mean ISI\")\n",
        "  plt.xlabel(\"ISI duration (s)\")\n",
        "  plt.ylabel(\"Number of spikes\")\n",
        "  plt.legend()"
      ]
    },
    {
      "cell_type": "code",
      "execution_count": 6,
      "metadata": {
        "execution": {},
        "pycharm": {
          "name": "#%%\n"
        },
        "id": "tbDKQWMbYNVS"
      },
      "outputs": [],
      "source": [
        "#@title Data retrieval\n",
        "#@markdown This cell downloads the example dataset that we will use in this tutorial.\n",
        "import io\n",
        "import requests\n",
        "r = requests.get('https://osf.io/sy5xt/download')\n",
        "if r.status_code != 200:\n",
        "  print('Failed to download data')\n",
        "else:\n",
        "  spike_times = np.load(io.BytesIO(r.content), allow_pickle=True)['spike_times']"
      ]
    },
    {
      "cell_type": "markdown",
      "metadata": {
        "execution": {},
        "id": "_XZAAnJpYNVS"
      },
      "source": [
        "---\n",
        "# \"What\" models"
      ]
    },
    {
      "cell_type": "code",
      "execution_count": 7,
      "metadata": {
        "cellView": "form",
        "execution": {},
        "id": "cXnEahDnYNVS",
        "outputId": "e4892d98-5d62-4a28-f58c-eb61a4a250db",
        "colab": {
          "base_uri": "https://localhost:8080/",
          "height": 580,
          "referenced_widgets": [
            "07d81bd8e9de4131a79dc027ead19889",
            "0d31640ca5654f3b9898e7e88c895cfd",
            "b6168b01dd9e42458dee7851c88b2016",
            "0fe4612ee1324c9183785c4666700d59",
            "d584391abf5a47a4ab1e1f3c960cb6c7",
            "80f7c0eca2b3402ea074db417f21ef82"
          ]
        }
      },
      "outputs": [
        {
          "output_type": "display_data",
          "data": {
            "text/plain": [
              "Tab(children=(Output(), Output()), _titles={'0': 'Youtube', '1': 'Bilibili'})"
            ],
            "application/vnd.jupyter.widget-view+json": {
              "version_major": 2,
              "version_minor": 0,
              "model_id": "07d81bd8e9de4131a79dc027ead19889"
            }
          },
          "metadata": {}
        }
      ],
      "source": [
        "# @title Video 1: \"What\" Models\n",
        "from ipywidgets import widgets\n",
        "from IPython.display import YouTubeVideo\n",
        "from IPython.display import IFrame\n",
        "from IPython.display import display\n",
        "\n",
        "\n",
        "class PlayVideo(IFrame):\n",
        "  def __init__(self, id, source, page=1, width=400, height=300, **kwargs):\n",
        "    self.id = id\n",
        "    if source == 'Bilibili':\n",
        "      src = f'https://player.bilibili.com/player.html?bvid={id}&page={page}'\n",
        "    elif source == 'Osf':\n",
        "      src = f'https://mfr.ca-1.osf.io/render?url=https://osf.io/download/{id}/?direct%26mode=render'\n",
        "    super(PlayVideo, self).__init__(src, width, height, **kwargs)\n",
        "\n",
        "\n",
        "def display_videos(video_ids, W=400, H=300, fs=1):\n",
        "  tab_contents = []\n",
        "  for i, video_id in enumerate(video_ids):\n",
        "    out = widgets.Output()\n",
        "    with out:\n",
        "      if video_ids[i][0] == 'Youtube':\n",
        "        video = YouTubeVideo(id=video_ids[i][1], width=W,\n",
        "                             height=H, fs=fs, rel=0)\n",
        "        print(f'Video available at https://youtube.com/watch?v={video.id}')\n",
        "      else:\n",
        "        video = PlayVideo(id=video_ids[i][1], source=video_ids[i][0], width=W,\n",
        "                          height=H, fs=fs, autoplay=False)\n",
        "        if video_ids[i][0] == 'Bilibili':\n",
        "          print(f'Video available at https://www.bilibili.com/video/{video.id}')\n",
        "        elif video_ids[i][0] == 'Osf':\n",
        "          print(f'Video available at https://osf.io/{video.id}')\n",
        "      display(video)\n",
        "    tab_contents.append(out)\n",
        "  return tab_contents\n",
        "\n",
        "\n",
        "video_ids = [('Youtube', 'KgqR_jbjMQg'), ('Bilibili', 'BV1mz4y1X7ot')]\n",
        "tab_contents = display_videos(video_ids, W=854, H=480)\n",
        "tabs = widgets.Tab()\n",
        "tabs.children = tab_contents\n",
        "for i in range(len(tab_contents)):\n",
        "  tabs.set_title(i, video_ids[i][0])\n",
        "display(tabs)"
      ]
    },
    {
      "cell_type": "code",
      "execution_count": 8,
      "metadata": {
        "cellView": "form",
        "execution": {},
        "id": "66NsfjtQYNVT",
        "outputId": "b80d5b6d-7cbc-443e-d628-5c73f34210e4",
        "colab": {
          "base_uri": "https://localhost:8080/",
          "height": 62,
          "referenced_widgets": [
            "22be36fd9bac480c8e2f6203b8efc1cf",
            "9a6a06a514e8432b92020d52b91d3b9d",
            "dd32f7c80d1b435e91c71177fc12b0e1",
            "0c484a19267f4a18b75ce60bd3744c48",
            "750a8a1d80b047f8b1d7af92bbd02262",
            "f67bd5a445ae494f9064559d3fcb07b0",
            "92300b3bebd14b1c9328a96071a6063a",
            "382d0427fc0b4ce7a2c1a27385a0fb36",
            "c3a6710b335540fc984498feb350d16f",
            "9adfbb3e85504332a4835a6607c91730",
            "29b583a6cda746b29b215001eb331637",
            "495bf0c65c794bf18f627eb485f2146e",
            "cc364d34765d4f508d1f07f987b2ab7d",
            "9e1b59fea101463c94f70f91446564c0",
            "dcd6628d81cd45a3816efe9468432143",
            "ec44b2c67cc7422487363dc94a0a93c2",
            "1875a35cd84a41a981812ab99b8f3d5b",
            "a350232d9cde4e4082ade5f2b3605ce4",
            "5f1a3decda314902ba83821e11bab508",
            "18fe04b2a43a43b9b8002303ef03ab8d",
            "ced8c5c3d38240fc88dee727ff94b276",
            "e687ff2e4b0645a4b67bfd174da71ce0",
            "30b9fe8a95974555b047163f2dceaa34",
            "73f0eabafbf24612ad1da9e7e4a579e7",
            "6b820f4ec42f4f33a5c08d781c52546a",
            "b2b78aa782b74bf49790594aab510a87"
          ]
        }
      },
      "outputs": [
        {
          "output_type": "display_data",
          "data": {
            "text/plain": [
              "VBox(children=(VBox(children=(HBox(children=(Button(description='🙂', layout=Layout(height='auto', padding='0.5…"
            ],
            "application/vnd.jupyter.widget-view+json": {
              "version_major": 2,
              "version_minor": 0,
              "model_id": "22be36fd9bac480c8e2f6203b8efc1cf"
            }
          },
          "metadata": {}
        }
      ],
      "source": [
        "# @title Submit your feedback\n",
        "content_review(f\"{feedback_prefix}_What_models_Video\")"
      ]
    },
    {
      "cell_type": "markdown",
      "metadata": {
        "execution": {},
        "id": "y-p3IMoFYNVT"
      },
      "source": [
        "---\n",
        "\n",
        "# Section 1: Exploring the Steinmetz dataset\n",
        "\n",
        "In this tutorial we will explore the structure of a neuroscience dataset.\n",
        "\n",
        "We consider a subset of data from a study of [Steinmetz _et al._ (2019)](https://www.nature.com/articles/s41586-019-1787-x). In this study, Neuropixels probes were implanted in the brains of mice. Electrical potentials were measured by hundreds of electrodes along the length of each probe. Each electrode's measurements captured local variations in the electric field due to nearby spiking neurons. A spike sorting algorithm was used to infer spike times and cluster spikes according to common origin: a single cluster of sorted spikes is causally attributed to a single neuron.\n",
        "\n",
        "In particular, a single recording session of spike times and neuron assignments was loaded and assigned to `spike_times` in the preceding setup.\n",
        "\n",
        "Typically a dataset comes with some information about its structure. However, this information may be incomplete. You might also apply some transformations or \"pre-processing\" to create a working representation of the data of interest, which might go partly undocumented depending on the circumstances. In any case it is important to be able to use the available tools to investigate unfamiliar aspects of a data structure.\n",
        "\n",
        "Let's see what our data looks like..."
      ]
    },
    {
      "cell_type": "markdown",
      "metadata": {
        "execution": {},
        "id": "ORDZXDO9YNVT"
      },
      "source": [
        "## Section 1.1: Warming up with `spike_times`"
      ]
    },
    {
      "cell_type": "markdown",
      "metadata": {
        "execution": {},
        "id": "Ybuo-WMpYNVT"
      },
      "source": [
        "What is the Python type of our variable?"
      ]
    },
    {
      "cell_type": "code",
      "execution_count": 9,
      "metadata": {
        "execution": {},
        "pycharm": {
          "name": "#%%\n"
        },
        "id": "DBLY1FogYNVT",
        "outputId": "50afc70d-5b3e-47f2-d2d9-13f0a47f220b",
        "colab": {
          "base_uri": "https://localhost:8080/"
        }
      },
      "outputs": [
        {
          "output_type": "execute_result",
          "data": {
            "text/plain": [
              "numpy.ndarray"
            ]
          },
          "metadata": {},
          "execution_count": 9
        }
      ],
      "source": [
        "type(spike_times)"
      ]
    },
    {
      "cell_type": "markdown",
      "metadata": {
        "execution": {},
        "id": "2pJLUG5zYNVU"
      },
      "source": [
        "You should see `numpy.ndarray`, which means that it's a normal NumPy array.\n",
        "\n",
        "If you see an error message, it probably means that you did not execute the set-up cells at the top of the notebook. So go ahead and make sure to do that.\n",
        "\n",
        "Once everything is running properly, we can ask the next question about the dataset: what's its shape?"
      ]
    },
    {
      "cell_type": "code",
      "execution_count": 10,
      "metadata": {
        "execution": {},
        "pycharm": {
          "name": "#%%\n"
        },
        "id": "ON5HiOPRYNVU",
        "outputId": "b43271b0-ab80-44b9-f4f7-feb7878b2731",
        "colab": {
          "base_uri": "https://localhost:8080/"
        }
      },
      "outputs": [
        {
          "output_type": "execute_result",
          "data": {
            "text/plain": [
              "(734,)"
            ]
          },
          "metadata": {},
          "execution_count": 10
        }
      ],
      "source": [
        "spike_times.shape"
      ]
    },
    {
      "cell_type": "markdown",
      "metadata": {
        "execution": {},
        "id": "7hf3rj0qYNVU"
      },
      "source": [
        "There are 734 entries in one dimension, and no other dimensions. What is the Python type of the first entry, and what is *its* shape?"
      ]
    },
    {
      "cell_type": "code",
      "execution_count": 11,
      "metadata": {
        "execution": {},
        "pycharm": {
          "name": "#%%\n"
        },
        "id": "sJeLmaPAYNVU",
        "outputId": "747ca22b-06f1-4792-886d-aa9eb4c47e7c",
        "colab": {
          "base_uri": "https://localhost:8080/"
        }
      },
      "outputs": [
        {
          "output_type": "stream",
          "name": "stdout",
          "text": [
            "<class 'numpy.ndarray'>\n",
            "(826,)\n"
          ]
        }
      ],
      "source": [
        "idx = 0\n",
        "print(\n",
        "  type(spike_times[idx]),\n",
        "  spike_times[idx].shape,\n",
        "  sep=\"\\n\",\n",
        ")"
      ]
    },
    {
      "cell_type": "markdown",
      "metadata": {
        "execution": {},
        "id": "YMUdVl8uYNVV"
      },
      "source": [
        "It's also a NumPy array with a 1D shape! Why didn't this show up as a second dimension in the shape of `spike_times`? That is, why not `spike_times.shape == (734, 826)`?\n",
        "\n",
        "To investigate, let's check another entry."
      ]
    },
    {
      "cell_type": "code",
      "execution_count": 12,
      "metadata": {
        "execution": {},
        "pycharm": {
          "name": "#%%\n"
        },
        "id": "ZwaAfPBOYNVV",
        "outputId": "39164204-0a39-47b4-d537-eb1b2ddbd3cc",
        "colab": {
          "base_uri": "https://localhost:8080/"
        }
      },
      "outputs": [
        {
          "output_type": "stream",
          "name": "stdout",
          "text": [
            "<class 'numpy.ndarray'>\n",
            "(9723,)\n"
          ]
        }
      ],
      "source": [
        "idx = 321\n",
        "print(\n",
        "  type(spike_times[idx]),\n",
        "  spike_times[idx].shape,\n",
        "  sep=\"\\n\",\n",
        ")"
      ]
    },
    {
      "cell_type": "markdown",
      "metadata": {
        "execution": {},
        "id": "Wd6pcARRYNVV"
      },
      "source": [
        "It's also a 1D NumPy array, but it has a different shape. Checking the NumPy types of the values in these arrays, and their first few elements, we see they are composed of floating point numbers (not another level of `np.ndarray`):"
      ]
    },
    {
      "cell_type": "code",
      "execution_count": 13,
      "metadata": {
        "execution": {},
        "pycharm": {
          "name": "#%%\n"
        },
        "id": "Yaj2IZ-GYNVV",
        "outputId": "47ad4120-1d35-4a7e-8bf5-c355cdd8298e",
        "colab": {
          "base_uri": "https://localhost:8080/"
        }
      },
      "outputs": [
        {
          "output_type": "stream",
          "name": "stdout",
          "text": [
            "Neuron 0:\n",
            "float32\n",
            "[ 0.8149   14.822467 24.9646   25.1436   38.8709  ]\n",
            "\n",
            "\n",
            "Neuron 321:\n",
            "float32\n",
            "[1.0698667 1.1536334 1.2403667 1.7072    1.799    ]\n",
            "\n",
            "\n"
          ]
        }
      ],
      "source": [
        "i_neurons = [0, 321]\n",
        "i_print = slice(0, 5)\n",
        "\n",
        "for i in i_neurons:\n",
        "  print(\n",
        "    \"Neuron {}:\".format(i),\n",
        "    spike_times[i].dtype,\n",
        "    spike_times[i][i_print],\n",
        "    \"\\n\",\n",
        "    sep=\"\\n\"\n",
        "  )"
      ]
    },
    {
      "cell_type": "markdown",
      "metadata": {
        "execution": {},
        "id": "r8czt4sUYNVV"
      },
      "source": [
        "Note that this time we've checked the NumPy `dtype` rather than the Python variable type. These two arrays contain floating point numbers (\"floats\") with 32 bits of precision.\n",
        "\n",
        "The basic picture is coming together:\n",
        "- `spike_times` is 1D, its entries are NumPy arrays, and its length is the number of neurons (734): by indexing it, we select a subset of neurons.\n",
        "- An array in `spike_times` is also 1D and corresponds to a single neuron; its entries are floating point numbers, and its length is the number of spikes attributed to that neuron. By indexing it, we select a subset of spike times for that neuron.\n",
        "\n",
        "Visually, you can think of the data structure as looking something like this:\n",
        "\n",
        "```\n",
        "| . . . . . |\n",
        "| . . . . . . . . |\n",
        "| . . . |\n",
        "| . . . . . . . |\n",
        "```\n",
        "\n",
        "Before moving on, we'll calculate and store the number of neurons in the dataset and the number of spikes per neuron:"
      ]
    },
    {
      "cell_type": "code",
      "execution_count": 14,
      "metadata": {
        "execution": {},
        "pycharm": {
          "name": "#%%\n"
        },
        "id": "FkT5fLsBYNVW",
        "outputId": "ff9ca2c5-c89a-4e19-ab91-ae3567eb0d3c",
        "colab": {
          "base_uri": "https://localhost:8080/"
        }
      },
      "outputs": [
        {
          "output_type": "stream",
          "name": "stdout",
          "text": [
            "Number of neurons: 734\n",
            "Number of spikes for first five neurons: [826, 2818, 3953, 646, 1115]\n"
          ]
        }
      ],
      "source": [
        "n_neurons = len(spike_times)\n",
        "total_spikes_per_neuron = [len(spike_times_i) for spike_times_i in spike_times]\n",
        "\n",
        "print(f\"Number of neurons: {n_neurons}\")\n",
        "print(f\"Number of spikes for first five neurons: {total_spikes_per_neuron[:5]}\")"
      ]
    },
    {
      "cell_type": "code",
      "execution_count": 15,
      "metadata": {
        "cellView": "form",
        "execution": {},
        "id": "qWLjVJVRYNVW",
        "outputId": "1610e6d7-904a-4bbc-b178-457264849f25",
        "colab": {
          "base_uri": "https://localhost:8080/",
          "height": 580,
          "referenced_widgets": [
            "954d2f6f64da4055807a35485b3fb20e",
            "ca53a696996047638d673f13dcff8658",
            "c7a02ed69c474fccb76f3c16221df3a8",
            "6b4830872c8c4e25a79846baa12f030f",
            "4a751b633d6d44c289d07b4b410a76a7",
            "ec3ce4c82233484b9209348ba78a78c0"
          ]
        }
      },
      "outputs": [
        {
          "output_type": "display_data",
          "data": {
            "text/plain": [
              "Tab(children=(Output(), Output()), _titles={'0': 'Youtube', '1': 'Bilibili'})"
            ],
            "application/vnd.jupyter.widget-view+json": {
              "version_major": 2,
              "version_minor": 0,
              "model_id": "954d2f6f64da4055807a35485b3fb20e"
            }
          },
          "metadata": {}
        }
      ],
      "source": [
        "# @title Video 2: Exploring the dataset\n",
        "from ipywidgets import widgets\n",
        "from IPython.display import YouTubeVideo\n",
        "from IPython.display import IFrame\n",
        "from IPython.display import display\n",
        "\n",
        "\n",
        "class PlayVideo(IFrame):\n",
        "  def __init__(self, id, source, page=1, width=400, height=300, **kwargs):\n",
        "    self.id = id\n",
        "    if source == 'Bilibili':\n",
        "      src = f'https://player.bilibili.com/player.html?bvid={id}&page={page}'\n",
        "    elif source == 'Osf':\n",
        "      src = f'https://mfr.ca-1.osf.io/render?url=https://osf.io/download/{id}/?direct%26mode=render'\n",
        "    super(PlayVideo, self).__init__(src, width, height, **kwargs)\n",
        "\n",
        "\n",
        "def display_videos(video_ids, W=400, H=300, fs=1):\n",
        "  tab_contents = []\n",
        "  for i, video_id in enumerate(video_ids):\n",
        "    out = widgets.Output()\n",
        "    with out:\n",
        "      if video_ids[i][0] == 'Youtube':\n",
        "        video = YouTubeVideo(id=video_ids[i][1], width=W,\n",
        "                             height=H, fs=fs, rel=0)\n",
        "        print(f'Video available at https://youtube.com/watch?v={video.id}')\n",
        "      else:\n",
        "        video = PlayVideo(id=video_ids[i][1], source=video_ids[i][0], width=W,\n",
        "                          height=H, fs=fs, autoplay=False)\n",
        "        if video_ids[i][0] == 'Bilibili':\n",
        "          print(f'Video available at https://www.bilibili.com/video/{video.id}')\n",
        "        elif video_ids[i][0] == 'Osf':\n",
        "          print(f'Video available at https://osf.io/{video.id}')\n",
        "      display(video)\n",
        "    tab_contents.append(out)\n",
        "  return tab_contents\n",
        "\n",
        "\n",
        "video_ids = [('Youtube', 'oHwYWUI_o1U'), ('Bilibili', 'BV1Hp4y1S7Au')]\n",
        "tab_contents = display_videos(video_ids, W=854, H=480)\n",
        "tabs = widgets.Tab()\n",
        "tabs.children = tab_contents\n",
        "for i in range(len(tab_contents)):\n",
        "  tabs.set_title(i, video_ids[i][0])\n",
        "display(tabs)"
      ]
    },
    {
      "cell_type": "code",
      "execution_count": 16,
      "metadata": {
        "cellView": "form",
        "execution": {},
        "id": "L0lbBSxBYNVW",
        "outputId": "f06bed10-79c3-4af1-a9f5-4783d4a4c681",
        "colab": {
          "base_uri": "https://localhost:8080/",
          "height": 62,
          "referenced_widgets": [
            "9b505c467aa847c389563d412db03e9d",
            "b431c022617e49cb8878c91f4a2230e8",
            "ee4b09da46f14b34a18031f443120119",
            "60b40c68b0eb4306b0eb744b6387468c",
            "a2bd43ee312644f7a23e46d61471dec6",
            "2dfdaee41dd946d48f481682fdf9f9f1",
            "380b3de7232c4537884208b9949708be",
            "aa1d0412ee0d42e99de13981cbe377f3",
            "863541c101b44376861d0513d25ee609",
            "c6d74c99fb46445cb7c33431d9337c30",
            "99f805f199664d13b6d53bc287adbf31",
            "22f76c95c73a4b61a278860589415342",
            "027c6e319ec740b3a2de331d94ed8e33",
            "154c1b79e79e457296bb99e86dd29b07",
            "b975d583ff884c42aa2fed5cdce5423a",
            "4f2ab2de489f42c383f83ef68f92f3d9",
            "34fb8c26cefc4dde91a74c988f846c32",
            "55c3f9ee23b54e43aa1538f9744067bb",
            "5eae4da9cfc74fdb9ef5b75b05e800cd",
            "3dc0a06a4fad4484a531622e6e8d49f1",
            "470605e906424bc789c970971912e2af",
            "45016aa7a6114f06a3bf4f8ace1cd1f4",
            "5f3b51c5cba540c9a8615b7643183dc3",
            "502ad9ce0e464377a1ee5179dbc7675c",
            "cb77dca3789f4632bdbf095321c8ecff",
            "1baa19aa585149b3babd85fe7c3705e3"
          ]
        }
      },
      "outputs": [
        {
          "output_type": "display_data",
          "data": {
            "text/plain": [
              "VBox(children=(VBox(children=(HBox(children=(Button(description='🙂', layout=Layout(height='auto', padding='0.5…"
            ],
            "application/vnd.jupyter.widget-view+json": {
              "version_major": 2,
              "version_minor": 0,
              "model_id": "9b505c467aa847c389563d412db03e9d"
            }
          },
          "metadata": {}
        }
      ],
      "source": [
        "# @title Submit your feedback\n",
        "content_review(f\"{feedback_prefix}_Exploring_the_dataset_Video\")"
      ]
    },
    {
      "cell_type": "markdown",
      "metadata": {
        "execution": {},
        "id": "CKZ0XdShYNVW"
      },
      "source": [
        "## Section 1.2: Getting warmer: counting and plotting total spike counts\n",
        "\n",
        "As we've seen, the number of spikes over the entire recording is variable between neurons. More generally, some neurons tend to spike more than others in a given period. Let's explore what the distribution of spiking looks like across all the neurons in the dataset."
      ]
    },
    {
      "cell_type": "markdown",
      "metadata": {
        "execution": {},
        "id": "XpXdk5nqYNVW"
      },
      "source": [
        "Are most neurons \"loud\" or \"quiet\", compared to the average? To see, we'll define bins of constant width in terms of total spikes and count the neurons that fall in each bin. This is known as a \"histogram\".\n",
        "\n",
        "You can plot a histogram with the matplotlib function `plt.hist`. If you just need to compute it, you can use the numpy function `np.histogram` instead."
      ]
    },
    {
      "cell_type": "code",
      "execution_count": 25,
      "metadata": {
        "execution": {},
        "pycharm": {
          "name": "#%%\n"
        },
        "id": "ZLICteY0YNVX",
        "outputId": "7becca03-0b33-4d45-9bf2-b25a5ce2da80",
        "colab": {
          "base_uri": "https://localhost:8080/",
          "height": 592
        }
      },
      "outputs": [
        {
          "output_type": "display_data",
          "data": {
            "text/plain": [
              "<Figure size 800x600 with 1 Axes>"
            ],
            "image/png": "[encoded data removed]"
          },
          "metadata": {
            "image/png": {
              "width": 775,
              "height": 575
            }
          }
        }
      ],
      "source": [
        "plt.hist(total_spikes_per_neuron, bins=50, histtype=\"stepfilled\")\n",
        "plt.xlabel(\"Total spikes per neuron\")\n",
        "plt.ylabel(\"Number of neurons\");"
      ]
    },
    {
      "cell_type": "markdown",
      "metadata": {
        "execution": {},
        "id": "uR3sIKZIYNVX"
      },
      "source": [
        "Let's see what percentage of neurons have a below-average spike count:"
      ]
    },
    {
      "cell_type": "code",
      "execution_count": 26,
      "metadata": {
        "execution": {},
        "pycharm": {
          "name": "#%%\n"
        },
        "id": "-3Sx5-moYNVX",
        "outputId": "b40e8455-d5a3-4564-e287-92be63ed471a",
        "colab": {
          "base_uri": "https://localhost:8080/"
        }
      },
      "outputs": [
        {
          "output_type": "stream",
          "name": "stdout",
          "text": [
            "68.0% of neurons are below the mean\n"
          ]
        }
      ],
      "source": [
        "mean_spike_count = np.mean(total_spikes_per_neuron)\n",
        "frac_below_mean = (total_spikes_per_neuron < mean_spike_count).mean()\n",
        "print(f\"{frac_below_mean:2.1%} of neurons are below the mean\")"
      ]
    },
    {
      "cell_type": "markdown",
      "metadata": {
        "execution": {},
        "id": "O3b6xyQEYNVX"
      },
      "source": [
        "We can also see this by adding the average spike count to the histogram plot:"
      ]
    },
    {
      "cell_type": "code",
      "execution_count": 22,
      "metadata": {
        "execution": {},
        "pycharm": {
          "name": "#%%\n"
        },
        "id": "t-jed-UbYNVX",
        "outputId": "30a75d7d-8a8f-4e49-ff60-f57ae7ac603c",
        "colab": {
          "base_uri": "https://localhost:8080/",
          "height": 592
        }
      },
      "outputs": [
        {
          "output_type": "display_data",
          "data": {
            "text/plain": [
              "<Figure size 800x600 with 1 Axes>"
            ],
            "image/png": "[encoded data removed]"
          },
          "metadata": {
            "image/png": {
              "width": 775,
              "height": 575
            }
          }
        }
      ],
      "source": [
        "plt.hist(total_spikes_per_neuron, bins=50, histtype=\"stepfilled\")\n",
        "plt.xlabel(\"Total spikes per neuron\")\n",
        "plt.ylabel(\"Number of neurons\")\n",
        "plt.axvline(mean_spike_count, color=\"orange\", label=\"Mean neuron\")\n",
        "plt.legend();"
      ]
    },
    {
      "cell_type": "markdown",
      "metadata": {
        "execution": {},
        "id": "QvCvqGJ3YNVX"
      },
      "source": [
        "This shows that the majority of neurons are relatively \"quiet\" compared to the mean, while a small number of neurons are exceptionally \"loud\": they must have spiked more often to reach a large count.\n",
        "\n",
        "### Coding Exercise 1.2: Comparing mean and median neurons\n",
        "\n",
        "If the mean neuron is more active than 68% of the population, what does that imply about the relationship between the mean neuron and the median neuron?\n",
        "\n",
        "*Exercise objective:* Reproduce the plot above, but add the median neuron.\n"
      ]
    },
    {
      "cell_type": "code",
      "execution_count": 29,
      "metadata": {
        "execution": {},
        "pycharm": {
          "name": "#%%\n"
        },
        "id": "3ufsS8J7YNVY",
        "outputId": "86a7d8a5-f305-4760-9683-81d881889a07",
        "colab": {
          "base_uri": "https://localhost:8080/",
          "height": 592
        }
      },
      "outputs": [
        {
          "output_type": "display_data",
          "data": {
            "text/plain": [
              "<Figure size 800x600 with 1 Axes>"
            ],
            "image/png": "[encoded data removed]"
          },
          "metadata": {
            "image/png": {
              "width": 775,
              "height": 575
            }
          }
        }
      ],
      "source": [
        "#################################################################################\n",
        "## TODO for students:\n",
        "# Fill out function and remove\n",
        "#raise NotImplementedError(\"Student exercise: complete histogram plotting with median\")\n",
        "#################################################################################\n",
        "\n",
        "# Compute median spike count\n",
        "median_spike_count = np.median(total_spikes_per_neuron)\n",
        "\n",
        "# Visualize median, mean, and histogram\n",
        "plt.hist(total_spikes_per_neuron, bins=50, histtype=\"stepfilled\", color=\"skyblue\", edgecolor=\"black\")\n",
        "plt.axvline(median_spike_count, color=\"limegreen\", linestyle='--', linewidth=2, label=\"Median neuron\")\n",
        "plt.axvline(mean_spike_count, color=\"orange\", linestyle='--', linewidth=2, label=\"Mean neuron\")\n",
        "plt.xlabel(\"Total spikes per neuron\")\n",
        "plt.ylabel(\"Number of neurons\")\n",
        "plt.title(\"Distribution of total spikes per neuron\")\n",
        "plt.legend()\n",
        "plt.show()"
      ]
    },
    {
      "cell_type": "markdown",
      "metadata": {
        "execution": {},
        "pycharm": {
          "name": "#%%\n"
        },
        "id": "EBnkBRPdYNVk"
      },
      "source": [
        "[*Click for solution*](https://github.com/NeuromatchAcademy/course-content/tree/main/tutorials/W1D1_ModelTypes/solutions/W1D1_Tutorial1_Solution_9af91fe0.py)\n",
        "\n",
        "*Example output:*\n",
        "\n",
        "<img alt='Solution hint' align='left' width=775.0 height=575.0 src=https://raw.githubusercontent.com/NeuromatchAcademy/course-content/main/tutorials/W1D1_ModelTypes/static/W1D1_Tutorial1_Solution_9af91fe0_0.png>\n",
        "\n"
      ]
    },
    {
      "cell_type": "markdown",
      "metadata": {
        "execution": {},
        "id": "uNvCktiqYNVk"
      },
      "source": [
        "\n",
        "*Bonus:* The median is the 50th percentile. What about other percentiles? Can you show the interquartile range on the histogram?"
      ]
    },
    {
      "cell_type": "code",
      "execution_count": null,
      "metadata": {
        "cellView": "form",
        "execution": {},
        "id": "nJo-KkxtYNVl"
      },
      "outputs": [],
      "source": [
        "# @title Submit your feedback\n",
        "content_review(f\"{feedback_prefix}_Comparing_mean_and_median_neurons_Exercise\")"
      ]
    },
    {
      "cell_type": "markdown",
      "metadata": {
        "execution": {},
        "id": "cOELHoQ_YNVl"
      },
      "source": [
        "---\n",
        "\n",
        "# Section 2: Visualizing neuronal spiking activity\n",
        "\n",
        "*Estimated timing to here from start of tutorial: 15 min*"
      ]
    },
    {
      "cell_type": "markdown",
      "metadata": {
        "execution": {},
        "id": "-0D73hxUYNVl"
      },
      "source": [
        "## Section 2.1: Getting a subset of the data\n",
        "\n",
        "Now we'll visualize trains of spikes. Because the recordings are long, we will first define a short time interval and restrict the visualization to only the spikes in this interval. We defined a helper function, `restrict_spike_times`, to do this for you. If you call `help()` on the function, it will tell you a little bit about itself:"
      ]
    },
    {
      "cell_type": "code",
      "execution_count": null,
      "metadata": {
        "cellView": "form",
        "execution": {},
        "id": "7mRH6hNHYNVl"
      },
      "outputs": [],
      "source": [
        "# @markdown Execute this cell for helper function `restrict_spike_times`\n",
        "def restrict_spike_times(spike_times, interval):\n",
        "  \"\"\"Given a spike_time dataset, restrict to spikes within given interval.\n",
        "\n",
        "  Args:\n",
        "    spike_times (sequence of np.ndarray): List or array of arrays,\n",
        "      each inner array has spike times for a single neuron.\n",
        "    interval (tuple): Min, max time values; keep min <= t < max.\n",
        "\n",
        "  Returns:\n",
        "    np.ndarray: like `spike_times`, but only within `interval`\n",
        "  \"\"\"\n",
        "  interval_spike_times = []\n",
        "  for spikes in spike_times:\n",
        "    interval_mask = (spikes >= interval[0]) & (spikes < interval[1])\n",
        "    interval_spike_times.append(spikes[interval_mask])\n",
        "  return np.array(interval_spike_times, object)"
      ]
    },
    {
      "cell_type": "code",
      "execution_count": null,
      "metadata": {
        "execution": {},
        "pycharm": {
          "name": "#%%\n"
        },
        "id": "EuzdYM7NYNVl"
      },
      "outputs": [],
      "source": [
        "help(restrict_spike_times)"
      ]
    },
    {
      "cell_type": "code",
      "execution_count": null,
      "metadata": {
        "execution": {},
        "pycharm": {
          "name": "#%%\n"
        },
        "id": "rnXcFx2GYNVm"
      },
      "outputs": [],
      "source": [
        "t_interval = (5, 15)  # units are seconds after start of recording\n",
        "interval_spike_times = restrict_spike_times(spike_times, t_interval)"
      ]
    },
    {
      "cell_type": "markdown",
      "metadata": {
        "execution": {},
        "id": "IncwDyR5YNVm"
      },
      "source": [
        "Is this a representative interval? What fraction of the total spikes fall in this interval?"
      ]
    },
    {
      "cell_type": "code",
      "execution_count": null,
      "metadata": {
        "execution": {},
        "pycharm": {
          "name": "#%%\n"
        },
        "id": "-0idtXPTYNVm"
      },
      "outputs": [],
      "source": [
        "original_counts = sum([len(spikes) for spikes in spike_times])\n",
        "interval_counts = sum([len(spikes) for spikes in interval_spike_times])\n",
        "frac_interval_spikes = interval_counts / original_counts\n",
        "print(f\"{frac_interval_spikes:.2%} of the total spikes are in the interval\")"
      ]
    },
    {
      "cell_type": "markdown",
      "metadata": {
        "execution": {},
        "id": "kvabcsyiYNVm"
      },
      "source": [
        "How does this compare to the ratio between the interval duration and the experiment duration? (What fraction of the total time is in this interval?)\n",
        "\n",
        "We can approximate the experiment duration by taking the minimum and maximum spike time in the whole dataset. To do that, we \"concatenate\" all of the neurons into one array and then use `np.ptp` (\"peak-to-peak\") to get the difference between the maximum and minimum value:"
      ]
    },
    {
      "cell_type": "code",
      "execution_count": null,
      "metadata": {
        "execution": {},
        "pycharm": {
          "name": "#%%\n"
        },
        "id": "dD1Rts0WYNVm"
      },
      "outputs": [],
      "source": [
        "spike_times_flat = np.concatenate(spike_times)\n",
        "experiment_duration = np.ptp(spike_times_flat)\n",
        "interval_duration = t_interval[1] - t_interval[0]\n",
        "\n",
        "frac_interval_time = interval_duration / experiment_duration\n",
        "print(f\"{frac_interval_time:.2%} of the total time is in the interval\")"
      ]
    },
    {
      "cell_type": "markdown",
      "metadata": {
        "execution": {},
        "id": "34DujzV_YNVm"
      },
      "source": [
        "These two values—the fraction of total spikes and the fraction of total time—are similar. This suggests the average spike rate of the neuronal population is not very different in this interval compared to the entire recording.\n",
        "\n",
        "## Section 2.2: Plotting spike trains and rasters\n",
        "\n",
        "Now that we have a representative subset, we're ready to plot the spikes, using the matplotlib `plt.eventplot` function. Let's look at a single neuron first:"
      ]
    },
    {
      "cell_type": "code",
      "execution_count": null,
      "metadata": {
        "execution": {},
        "pycharm": {
          "name": "#%%\n"
        },
        "id": "6XuU75loYNVn"
      },
      "outputs": [],
      "source": [
        "neuron_idx = 1\n",
        "plt.eventplot(interval_spike_times[neuron_idx], color=\".2\")\n",
        "plt.xlabel(\"Time (s)\")\n",
        "plt.yticks([]);"
      ]
    },
    {
      "cell_type": "markdown",
      "metadata": {
        "execution": {},
        "id": "z6dbMctKYNVn"
      },
      "source": [
        "We can also plot multiple neurons. Here are three:"
      ]
    },
    {
      "cell_type": "code",
      "execution_count": null,
      "metadata": {
        "execution": {},
        "pycharm": {
          "name": "#%%\n"
        },
        "id": "k4eZjJXMYNVn"
      },
      "outputs": [],
      "source": [
        "neuron_idx = [1, 11, 51]\n",
        "plt.eventplot(interval_spike_times[neuron_idx], color=\".2\")\n",
        "plt.xlabel(\"Time (s)\")\n",
        "plt.yticks([]);"
      ]
    },
    {
      "cell_type": "markdown",
      "metadata": {
        "execution": {},
        "id": "ZSq9om6CYNVn"
      },
      "source": [
        "This makes a \"raster\" plot, where the spikes from each neuron appear in a different row.\n",
        "\n",
        "Plotting a large number of neurons can give you a sense for the characteristics in the population. Let's show every 5th neuron that was recorded:"
      ]
    },
    {
      "cell_type": "code",
      "execution_count": null,
      "metadata": {
        "execution": {},
        "pycharm": {
          "name": "#%%\n"
        },
        "id": "aqfFWJS8YNVo"
      },
      "outputs": [],
      "source": [
        "neuron_idx = np.arange(0, len(spike_times), 5)\n",
        "plt.eventplot(interval_spike_times[neuron_idx], color=\".2\")\n",
        "plt.xlabel(\"Time (s)\")\n",
        "plt.yticks([]);"
      ]
    },
    {
      "cell_type": "markdown",
      "metadata": {
        "execution": {},
        "id": "03j4OL9QYNVo"
      },
      "source": [
        "*Question*: How does the information in this plot relate to the histogram of total spike counts that you saw above?"
      ]
    },
    {
      "cell_type": "markdown",
      "metadata": {
        "execution": {},
        "id": "47wf-kqeYNVo"
      },
      "source": [
        "[*Click for solution*](https://github.com/NeuromatchAcademy/course-content/tree/main/tutorials/W1D1_ModelTypes/solutions/W1D1_Tutorial1_Solution_60e8b44b.py)\n",
        "\n"
      ]
    },
    {
      "cell_type": "code",
      "execution_count": null,
      "metadata": {
        "cellView": "form",
        "execution": {},
        "id": "L7Rcbk5nYNVo"
      },
      "outputs": [],
      "source": [
        "# @title Video 3: Visualizing activity\n",
        "from ipywidgets import widgets\n",
        "from IPython.display import YouTubeVideo\n",
        "from IPython.display import IFrame\n",
        "from IPython.display import display\n",
        "\n",
        "\n",
        "class PlayVideo(IFrame):\n",
        "  def __init__(self, id, source, page=1, width=400, height=300, **kwargs):\n",
        "    self.id = id\n",
        "    if source == 'Bilibili':\n",
        "      src = f'https://player.bilibili.com/player.html?bvid={id}&page={page}'\n",
        "    elif source == 'Osf':\n",
        "      src = f'https://mfr.ca-1.osf.io/render?url=https://osf.io/download/{id}/?direct%26mode=render'\n",
        "    super(PlayVideo, self).__init__(src, width, height, **kwargs)\n",
        "\n",
        "\n",
        "def display_videos(video_ids, W=400, H=300, fs=1):\n",
        "  tab_contents = []\n",
        "  for i, video_id in enumerate(video_ids):\n",
        "    out = widgets.Output()\n",
        "    with out:\n",
        "      if video_ids[i][0] == 'Youtube':\n",
        "        video = YouTubeVideo(id=video_ids[i][1], width=W,\n",
        "                             height=H, fs=fs, rel=0)\n",
        "        print(f'Video available at https://youtube.com/watch?v={video.id}')\n",
        "      else:\n",
        "        video = PlayVideo(id=video_ids[i][1], source=video_ids[i][0], width=W,\n",
        "                          height=H, fs=fs, autoplay=False)\n",
        "        if video_ids[i][0] == 'Bilibili':\n",
        "          print(f'Video available at https://www.bilibili.com/video/{video.id}')\n",
        "        elif video_ids[i][0] == 'Osf':\n",
        "          print(f'Video available at https://osf.io/{video.id}')\n",
        "      display(video)\n",
        "    tab_contents.append(out)\n",
        "  return tab_contents\n",
        "\n",
        "\n",
        "video_ids = [('Youtube', 'QGA5FCW7kkA'), ('Bilibili', 'BV1dt4y1Q7C5')]\n",
        "tab_contents = display_videos(video_ids, W=854, H=480)\n",
        "tabs = widgets.Tab()\n",
        "tabs.children = tab_contents\n",
        "for i in range(len(tab_contents)):\n",
        "  tabs.set_title(i, video_ids[i][0])\n",
        "display(tabs)"
      ]
    },
    {
      "cell_type": "code",
      "execution_count": null,
      "metadata": {
        "cellView": "form",
        "execution": {},
        "id": "W8UJmH0hYNVo"
      },
      "outputs": [],
      "source": [
        "# @title Submit your feedback\n",
        "content_review(f\"{feedback_prefix}_Visualizing_activity_Video\")"
      ]
    },
    {
      "cell_type": "markdown",
      "metadata": {
        "execution": {},
        "id": "gFG06wJtYNVp"
      },
      "source": [
        "---\n",
        "\n",
        "# Section 3: Inter-spike intervals and their distributions\n",
        "\n",
        "*Estimated timing to here from start of tutorial: 25 min*"
      ]
    },
    {
      "cell_type": "markdown",
      "metadata": {
        "execution": {},
        "id": "yDWqrKo4YNVp"
      },
      "source": [
        "Given the ordered arrays of spike times for each neuron in `spike_times`, which we've just visualized, what can we ask next?\n",
        "\n",
        "Scientific questions are informed by existing models. So, what knowledge do we already have that can inform questions about this data?\n",
        "\n",
        "We know that there are physical constraints on neuron spiking. Spiking costs energy, which the neuron's cellular machinery can only obtain at a finite rate. Therefore neurons should have a refractory period: they can only fire as quickly as their metabolic processes can support, and there is a minimum delay between consecutive spikes of the same neuron.\n",
        "\n",
        "More generally, we can ask \"how long does a neuron wait to spike again?\" or \"what is the longest a neuron will wait?\" Can we transform spike times into something else, to address questions like these more directly?\n",
        "\n",
        "We can consider the inter-spike times (or interspike intervals: ISIs). These are simply the time differences between consecutive spikes of the same neuron.\n",
        "\n",
        "### Exercise 3: Plot the distribution of ISIs for a single neuron\n",
        "\n",
        "*Exercise objective:* make a histogram, like we did for spike counts, to show the distribution of ISIs for one of the neurons in the dataset.\n",
        "\n",
        "Do this in three steps:\n",
        "\n",
        "1. Extract the spike times for one of the neurons\n",
        "2. Compute the ISIs (the amount of time between spikes, or equivalently, the difference between adjacent spike times)\n",
        "3. Plot a histogram with the array of individual ISIs"
      ]
    },
    {
      "cell_type": "code",
      "execution_count": null,
      "metadata": {
        "execution": {},
        "pycharm": {
          "name": "#%%\n"
        },
        "id": "NcOfowI_YNVp"
      },
      "outputs": [],
      "source": [
        "def compute_single_neuron_isis(spike_times, neuron_idx):\n",
        "  \"\"\"Compute a vector of ISIs for a single neuron given spike times.\n",
        "\n",
        "  Args:\n",
        "    spike_times (list of 1D arrays): Spike time dataset, with the first\n",
        "      dimension corresponding to different neurons.\n",
        "    neuron_idx (int): Index of the unit to compute ISIs for.\n",
        "\n",
        "  Returns:\n",
        "    isis (1D array): Duration of time between each spike from one neuron.\n",
        "  \"\"\"\n",
        "  #############################################################################\n",
        "  # Students: Fill in missing code (...) and comment or remove the next line\n",
        "  raise NotImplementedError(\"Exercise: compute single neuron ISIs\")\n",
        "  #############################################################################\n",
        "\n",
        "  # Extract the spike times for the specified neuron\n",
        "  single_neuron_spikes = ...\n",
        "\n",
        "  # Compute the ISIs for this set of spikes\n",
        "  # Hint: the function np.diff computes discrete differences along an array\n",
        "  isis = ...\n",
        "\n",
        "  return isis\n",
        "\n",
        "# Compute ISIs\n",
        "single_neuron_isis = compute_single_neuron_isis(spike_times, neuron_idx=283)\n",
        "\n",
        "# Visualize ISIs\n",
        "plot_isis(single_neuron_isis)"
      ]
    },
    {
      "cell_type": "markdown",
      "metadata": {
        "execution": {},
        "pycharm": {
          "name": "#%%\n"
        },
        "id": "Va8fTTBTYNVp"
      },
      "source": [
        "[*Click for solution*](https://github.com/NeuromatchAcademy/course-content/tree/main/tutorials/W1D1_ModelTypes/solutions/W1D1_Tutorial1_Solution_2972c168.py)\n",
        "\n",
        "*Example output:*\n",
        "\n",
        "<img alt='Solution hint' align='left' width=775.0 height=575.0 src=https://raw.githubusercontent.com/NeuromatchAcademy/course-content/main/tutorials/W1D1_ModelTypes/static/W1D1_Tutorial1_Solution_2972c168_0.png>\n",
        "\n"
      ]
    },
    {
      "cell_type": "markdown",
      "metadata": {
        "execution": {},
        "id": "X8CUYovQYNVp"
      },
      "source": [
        "In general, the shorter ISIs are predominant, with counts decreasing rapidly (and smoothly, more or less) with increasing ISI. However, counts also rapidly decrease to zero with _decreasing_ ISI below the maximum of the distribution (8-11 ms). The absence of these very low ISIs agrees with the refractory period hypothesis: the neuron cannot fire quickly enough to populate this region of the ISI distribution.\n",
        "\n",
        "Check the distributions of some other neurons. To resolve various features of the distributions, you might need to play with the value of `bins` in the call to `plt.hist`. Using too few bins might smooth over interesting details, but if you use too many bins, the random variability will start to dominate.\n",
        "\n",
        "You might also want to restrict the range to see the shape of the distribution when focusing on relatively short or long ISIs. *Hint:* `plt.hist` takes a `range` argument"
      ]
    },
    {
      "cell_type": "code",
      "execution_count": null,
      "metadata": {
        "cellView": "form",
        "execution": {},
        "id": "4xQZCRWdYNVp"
      },
      "outputs": [],
      "source": [
        "# @title Submit your feedback\n",
        "content_review(f\"{feedback_prefix}_ISIs_and_their_distributions_Exercise\")"
      ]
    },
    {
      "cell_type": "markdown",
      "metadata": {
        "execution": {},
        "id": "Vpvfn59xYNVq"
      },
      "source": [
        "---\n",
        "\n",
        "# Section 4: What is the functional form of an ISI distribution?\n",
        "\n",
        "*Estimated timing to here from start of tutorial: 35 min*"
      ]
    },
    {
      "cell_type": "code",
      "execution_count": null,
      "metadata": {
        "cellView": "form",
        "execution": {},
        "id": "I6UIfYkXYNVq"
      },
      "outputs": [],
      "source": [
        "# @title Video 4: ISI distribution\n",
        "from ipywidgets import widgets\n",
        "from IPython.display import YouTubeVideo\n",
        "from IPython.display import IFrame\n",
        "from IPython.display import display\n",
        "\n",
        "\n",
        "class PlayVideo(IFrame):\n",
        "  def __init__(self, id, source, page=1, width=400, height=300, **kwargs):\n",
        "    self.id = id\n",
        "    if source == 'Bilibili':\n",
        "      src = f'https://player.bilibili.com/player.html?bvid={id}&page={page}'\n",
        "    elif source == 'Osf':\n",
        "      src = f'https://mfr.ca-1.osf.io/render?url=https://osf.io/download/{id}/?direct%26mode=render'\n",
        "    super(PlayVideo, self).__init__(src, width, height, **kwargs)\n",
        "\n",
        "\n",
        "def display_videos(video_ids, W=400, H=300, fs=1):\n",
        "  tab_contents = []\n",
        "  for i, video_id in enumerate(video_ids):\n",
        "    out = widgets.Output()\n",
        "    with out:\n",
        "      if video_ids[i][0] == 'Youtube':\n",
        "        video = YouTubeVideo(id=video_ids[i][1], width=W,\n",
        "                             height=H, fs=fs, rel=0)\n",
        "        print(f'Video available at https://youtube.com/watch?v={video.id}')\n",
        "      else:\n",
        "        video = PlayVideo(id=video_ids[i][1], source=video_ids[i][0], width=W,\n",
        "                          height=H, fs=fs, autoplay=False)\n",
        "        if video_ids[i][0] == 'Bilibili':\n",
        "          print(f'Video available at https://www.bilibili.com/video/{video.id}')\n",
        "        elif video_ids[i][0] == 'Osf':\n",
        "          print(f'Video available at https://osf.io/{video.id}')\n",
        "      display(video)\n",
        "    tab_contents.append(out)\n",
        "  return tab_contents\n",
        "\n",
        "\n",
        "video_ids = [('Youtube', 'DHhM80MOTe8'), ('Bilibili', 'BV1ov411B7Pm')]\n",
        "tab_contents = display_videos(video_ids, W=854, H=480)\n",
        "tabs = widgets.Tab()\n",
        "tabs.children = tab_contents\n",
        "for i in range(len(tab_contents)):\n",
        "  tabs.set_title(i, video_ids[i][0])\n",
        "display(tabs)"
      ]
    },
    {
      "cell_type": "code",
      "execution_count": null,
      "metadata": {
        "cellView": "form",
        "execution": {},
        "id": "KtKTTNpAYNVq"
      },
      "outputs": [],
      "source": [
        "# @title Submit your feedback\n",
        "content_review(f\"{feedback_prefix}_ISI_distribution_Video\")"
      ]
    },
    {
      "cell_type": "markdown",
      "metadata": {
        "execution": {},
        "id": "EdmtDqG2YNVq"
      },
      "source": [
        "The ISI histograms seem to follow continuous, monotonically decreasing functions above their maxima. The function is clearly non-linear. Could it belong to a single family of functions?\n",
        "\n",
        "To motivate the idea of using a mathematical function to explain physiological phenomena, let's define a few different function forms that we might expect the relationship to follow: exponential, inverse, and linear."
      ]
    },
    {
      "cell_type": "code",
      "execution_count": null,
      "metadata": {
        "execution": {},
        "pycharm": {
          "name": "#%%\n"
        },
        "id": "lHHy_G7TYNVq"
      },
      "outputs": [],
      "source": [
        "def exponential(xs, scale, rate, x0):\n",
        "  \"\"\"A simple parameterized exponential function, applied element-wise.\n",
        "\n",
        "  Args:\n",
        "    xs (np.ndarray or float): Input(s) to the function.\n",
        "    scale (float): Linear scaling factor.\n",
        "    rate (float): Exponential growth (positive) or decay (negative) rate.\n",
        "    x0 (float): Horizontal offset.\n",
        "\n",
        "  \"\"\"\n",
        "  ys = scale * np.exp(rate * (xs - x0))\n",
        "  return ys\n",
        "\n",
        "def inverse(xs, scale, x0):\n",
        "  \"\"\"A simple parameterized inverse function (`1/x`), applied element-wise.\n",
        "\n",
        "  Args:\n",
        "    xs (np.ndarray or float): Input(s) to the function.\n",
        "    scale (float): Linear scaling factor.\n",
        "    x0 (float): Horizontal offset.\n",
        "\n",
        "  \"\"\"\n",
        "  ys = scale / (xs - x0)\n",
        "  return ys\n",
        "\n",
        "def linear(xs, slope, y0):\n",
        "  \"\"\"A simple linear function, applied element-wise.\n",
        "\n",
        "  Args:\n",
        "    xs (np.ndarray or float): Input(s) to the function.\n",
        "    slope (float): Slope of the line.\n",
        "    y0 (float): y-intercept of the line.\n",
        "\n",
        "  \"\"\"\n",
        "  ys = slope * xs + y0\n",
        "  return ys"
      ]
    },
    {
      "cell_type": "markdown",
      "metadata": {
        "execution": {},
        "id": "3Ezr5p_3YNVq"
      },
      "source": [
        "### Interactive Demo 4: ISI functions explorer\n",
        "\n",
        "Here is an interactive demo where you can vary the parameters of these functions and see how well the resulting outputs correspond to the data. Adjust the parameters by moving the sliders and see how close you can get the lines to follow the falling curve of the histogram. This will give you a taste of what you're trying to do when you *fit a model* to data.\n",
        "\n",
        "\"Interactive demo\" cells have hidden code that defines an interface where you can play with the parameters of some function using sliders. You don't need to worry about how the code works – but you do need to **run the cell** to enable the sliders.\n",
        "\n",
        "- Which type of function (exponential/inverse/linear) can you make match the data best?\n"
      ]
    },
    {
      "cell_type": "code",
      "execution_count": null,
      "metadata": {
        "cellView": "form",
        "execution": {},
        "pycharm": {
          "name": "#%%\n"
        },
        "id": "VDdEKML0YNVq"
      },
      "outputs": [],
      "source": [
        "#@markdown Be sure to run this cell to enable the demo\n",
        "# Don't worry about understanding this code! It's to setup an interactive plot.\n",
        "single_neuron_idx = 283\n",
        "single_neuron_spikes = spike_times[single_neuron_idx]\n",
        "single_neuron_isis = np.diff(single_neuron_spikes)\n",
        "\n",
        "counts, edges = np.histogram(\n",
        "  single_neuron_isis,\n",
        "  bins=50,\n",
        "  range=(0, single_neuron_isis.max())\n",
        ")\n",
        "\n",
        "functions = dict(\n",
        "  exponential=exponential,\n",
        "  inverse=inverse,\n",
        "  linear=linear,\n",
        ")\n",
        "\n",
        "colors = dict(\n",
        "  exponential=\"C1\",\n",
        "  inverse=\"C2\",\n",
        "  linear=\"C4\",\n",
        ")\n",
        "\n",
        "@widgets.interact(\n",
        "  exp_scale=widgets.FloatSlider(1000, min=0, max=20000, step=250),\n",
        "  exp_rate=widgets.FloatSlider(-10, min=-200, max=50, step=1),\n",
        "  exp_x0=widgets.FloatSlider(0.1, min=-0.5, max=0.5, step=0.005),\n",
        "  inv_scale=widgets.FloatSlider(1000, min=0, max=3e2, step=10),\n",
        "  inv_x0=widgets.FloatSlider(0, min=-0.2, max=0.2, step=0.01),\n",
        "  lin_slope=widgets.FloatSlider(-1e5, min=-6e5, max=1e5, step=10000),\n",
        "  lin_y0=widgets.FloatSlider(10000, min=0, max=4e4, step=1000),\n",
        ")\n",
        "def fit_plot(\n",
        "  exp_scale=1000, exp_rate=-10, exp_x0=0.1,\n",
        "  inv_scale=1000, inv_x0=0,\n",
        "  lin_slope=-1e5, lin_y0=2000,\n",
        "):\n",
        "  \"\"\"Helper function for plotting function fits with interactive sliders.\"\"\"\n",
        "  func_params = dict(\n",
        "    exponential=(exp_scale, exp_rate, exp_x0),\n",
        "    inverse=(inv_scale, inv_x0),\n",
        "    linear=(lin_slope, lin_y0),\n",
        "  )\n",
        "  f, ax = plt.subplots()\n",
        "  ax.fill_between(edges[:-1], counts, step=\"post\", alpha=.5)\n",
        "  xs = np.linspace(1e-10, edges.max())\n",
        "  for name, function in functions.items():\n",
        "    ys = function(xs, *func_params[name])\n",
        "    ax.plot(xs, ys, lw=3, color=colors[name], label=name);\n",
        "  ax.set(\n",
        "      xlim=(edges.min(), edges.max()),\n",
        "      ylim=(0, counts.max() * 1.1),\n",
        "      xlabel=\"ISI (s)\",\n",
        "      ylabel=\"Number of spikes\",\n",
        "  )\n",
        "  ax.legend()\n",
        "  plt.show()"
      ]
    },
    {
      "cell_type": "markdown",
      "metadata": {
        "execution": {},
        "id": "9tSEAOksYNVq"
      },
      "source": [
        "[*Click for solution*](https://github.com/NeuromatchAcademy/course-content/tree/main/tutorials/W1D1_ModelTypes/solutions/W1D1_Tutorial1_Solution_1bfa4ab0.py)\n",
        "\n"
      ]
    },
    {
      "cell_type": "code",
      "execution_count": null,
      "metadata": {
        "cellView": "form",
        "execution": {},
        "id": "Kx3aZhA8YNVq"
      },
      "outputs": [],
      "source": [
        "# @title Submit your feedback\n",
        "content_review(f\"{feedback_prefix}_ISI_functions_explorer_Interactive_Demo_and_Discussion\")"
      ]
    },
    {
      "cell_type": "code",
      "execution_count": null,
      "metadata": {
        "cellView": "form",
        "execution": {},
        "id": "RP7TT34EYNVr"
      },
      "outputs": [],
      "source": [
        "# @title Video 5: Fitting models by hand\n",
        "from ipywidgets import widgets\n",
        "from IPython.display import YouTubeVideo\n",
        "from IPython.display import IFrame\n",
        "from IPython.display import display\n",
        "\n",
        "\n",
        "class PlayVideo(IFrame):\n",
        "  def __init__(self, id, source, page=1, width=400, height=300, **kwargs):\n",
        "    self.id = id\n",
        "    if source == 'Bilibili':\n",
        "      src = f'https://player.bilibili.com/player.html?bvid={id}&page={page}'\n",
        "    elif source == 'Osf':\n",
        "      src = f'https://mfr.ca-1.osf.io/render?url=https://osf.io/download/{id}/?direct%26mode=render'\n",
        "    super(PlayVideo, self).__init__(src, width, height, **kwargs)\n",
        "\n",
        "\n",
        "def display_videos(video_ids, W=400, H=300, fs=1):\n",
        "  tab_contents = []\n",
        "  for i, video_id in enumerate(video_ids):\n",
        "    out = widgets.Output()\n",
        "    with out:\n",
        "      if video_ids[i][0] == 'Youtube':\n",
        "        video = YouTubeVideo(id=video_ids[i][1], width=W,\n",
        "                             height=H, fs=fs, rel=0)\n",
        "        print(f'Video available at https://youtube.com/watch?v={video.id}')\n",
        "      else:\n",
        "        video = PlayVideo(id=video_ids[i][1], source=video_ids[i][0], width=W,\n",
        "                          height=H, fs=fs, autoplay=False)\n",
        "        if video_ids[i][0] == 'Bilibili':\n",
        "          print(f'Video available at https://www.bilibili.com/video/{video.id}')\n",
        "        elif video_ids[i][0] == 'Osf':\n",
        "          print(f'Video available at https://osf.io/{video.id}')\n",
        "      display(video)\n",
        "    tab_contents.append(out)\n",
        "  return tab_contents\n",
        "\n",
        "\n",
        "video_ids = [('Youtube', 'uW2HDk_4-wk'), ('Bilibili', 'BV1w54y1S7Eb')]\n",
        "tab_contents = display_videos(video_ids, W=854, H=480)\n",
        "tabs = widgets.Tab()\n",
        "tabs.children = tab_contents\n",
        "for i in range(len(tab_contents)):\n",
        "  tabs.set_title(i, video_ids[i][0])\n",
        "display(tabs)"
      ]
    },
    {
      "cell_type": "code",
      "execution_count": null,
      "metadata": {
        "cellView": "form",
        "execution": {},
        "id": "96xHz8IJYNVr"
      },
      "outputs": [],
      "source": [
        "# @title Submit your feedback\n",
        "content_review(f\"{feedback_prefix}_Fitting_models_by_hand_Video\")"
      ]
    },
    {
      "cell_type": "markdown",
      "metadata": {
        "execution": {},
        "id": "BQpdaMVqYNVr"
      },
      "source": [
        "---\n",
        "# Section 5: Reflecting on what models\n",
        "\n",
        "*Estimated timing to here from start of tutorial: 40 min*"
      ]
    },
    {
      "cell_type": "markdown",
      "metadata": {
        "execution": {},
        "id": "8KQ37fzuYNVr"
      },
      "source": [
        "## Think! 5: Reflecting on what models\n",
        "\n",
        "Please discuss the following questions for around 10 minutes with your group:\n",
        "- Have you seen what models before?\n",
        "- Have you ever done one?\n",
        "- Why are what models useful?\n",
        "- When are they possible? Does your field have what models?\n",
        "- What do we learn from constructing them?"
      ]
    },
    {
      "cell_type": "code",
      "execution_count": null,
      "metadata": {
        "cellView": "form",
        "execution": {},
        "id": "mtLzXzw4YNVr"
      },
      "outputs": [],
      "source": [
        "# @title Submit your feedback\n",
        "content_review(f\"{feedback_prefix}_Reflecting_on_what_models_Discussion\")"
      ]
    },
    {
      "cell_type": "markdown",
      "metadata": {
        "execution": {},
        "id": "YIRRBTDHYNVr"
      },
      "source": [
        "---\n",
        "# Summary\n",
        "\n",
        "*Estimated timing of tutorial: 50 minutes*\n",
        "\n",
        "In this tutorial, we loaded some neural data and poked at it to understand how the dataset is organized. Then we made some basic plots to visualize (1) the average level of activity across the population and (2) the distribution of ISIs for an individual neuron. In the very last bit, we started to think about using mathematical formalisms to understand or explain some physiological phenomenon. All of this only allowed us to understand \"What\" the data looks like.\n",
        "\n",
        "This is the first step towards developing models that can tell us something about the brain. That's what we'll focus on in the next two tutorials."
      ]
    }
  ],
  "metadata": {
    "colab": {
      "name": "W1D1_Tutorial1",
      "provenance": [],
      "toc_visible": true,
      "include_colab_link": true
    },
    "kernel": {
      "display_name": "Python 3",
      "language": "python",
      "name": "python3"
    },
    "kernelspec": {
      "display_name": "Python 3",
      "name": "python3"
    },
    "language_info": {
      "codemirror_mode": {
        "name": "ipython",
        "version": 3
      },
      "file_extension": ".py",
      "mimetype": "text/x-python",
      "name": "python",
      "nbconvert_exporter": "python",
      "pygments_lexer": "ipython3",
      "version": "3.9.21"
    },
    "widgets": {
      "application/vnd.jupyter.widget-state+json": {
        "07d81bd8e9de4131a79dc027ead19889": {
          "model_module": "@jupyter-widgets/controls",
          "model_name": "TabModel",
          "model_module_version": "1.5.0",
          "state": {
            "_dom_classes": [],
            "_model_module": "@jupyter-widgets/controls",
            "_model_module_version": "1.5.0",
            "_model_name": "TabModel",
            "_titles": {
              "0": "Youtube",
              "1": "Bilibili"
            },
            "_view_count": null,
            "_view_module": "@jupyter-widgets/controls",
            "_view_module_version": "1.5.0",
            "_view_name": "TabView",
            "box_style": "",
            "children": [
              "IPY_MODEL_0d31640ca5654f3b9898e7e88c895cfd",
              "IPY_MODEL_b6168b01dd9e42458dee7851c88b2016"
            ],
            "layout": "IPY_MODEL_0fe4612ee1324c9183785c4666700d59",
            "selected_index": 0
          }
        },
        "0d31640ca5654f3b9898e7e88c895cfd": {
          "model_module": "@jupyter-widgets/output",
          "model_name": "OutputModel",
          "model_module_version": "1.0.0",
          "state": {
            "_dom_classes": [],
            "_model_module": "@jupyter-widgets/output",
            "_model_module_version": "1.0.0",
            "_model_name": "OutputModel",
            "_view_count": null,
            "_view_module": "@jupyter-widgets/output",
            "_view_module_version": "1.0.0",
            "_view_name": "OutputView",
            "layout": "IPY_MODEL_d584391abf5a47a4ab1e1f3c960cb6c7",
            "msg_id": "",
            "outputs": [
              {
                "output_type": "stream",
                "name": "stdout",
                "text": [
                  "Video available at https://youtube.com/watch?v=KgqR_jbjMQg\n"
                ]
              },
              {
                "output_type": "display_data",
                "data": {
                  "text/plain": "<IPython.lib.display.YouTubeVideo at 0x7d3383f5d110>",
                  "text/html": "\n        <iframe\n            width=\"854\"\n            height=\"480\"\n            src=\"https://www.youtube.com/embed/KgqR_jbjMQg?fs=1&rel=0\"\n            frameborder=\"0\"\n            allowfullscreen\n            \n        ></iframe>\n        ",
                  "image/jpeg": "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\n"
                },
                "metadata": {}
              }
            ]
          }
        },
        "b6168b01dd9e42458dee7851c88b2016": {
          "model_module": "@jupyter-widgets/output",
          "model_name": "OutputModel",
          "model_module_version": "1.0.0",
          "state": {
            "_dom_classes": [],
            "_model_module": "@jupyter-widgets/output",
            "_model_module_version": "1.0.0",
            "_model_name": "OutputModel",
            "_view_count": null,
            "_view_module": "@jupyter-widgets/output",
            "_view_module_version": "1.0.0",
            "_view_name": "OutputView",
            "layout": "IPY_MODEL_80f7c0eca2b3402ea074db417f21ef82",
            "msg_id": "",
            "outputs": [
              {
                "output_type": "stream",
                "name": "stdout",
                "text": [
                  "Video available at https://www.bilibili.com/video/BV1mz4y1X7ot\n"
                ]
              },
              {
                "output_type": "display_data",
                "data": {
                  "text/plain": "<__main__.PlayVideo at 0x7d3383f5e150>",
                  "text/html": "\n        <iframe\n            width=\"854\"\n            height=\"480\"\n            src=\"https://player.bilibili.com/player.html?bvid=BV1mz4y1X7ot&page=1?fs=1&autoplay=False\"\n            frameborder=\"0\"\n            allowfullscreen\n            \n        ></iframe>\n        "
                },
                "metadata": {}
              }
            ]
          }
        },
        "0fe4612ee1324c9183785c4666700d59": {
          "model_module": "@jupyter-widgets/base",
          "model_name": "LayoutModel",
          "model_module_version": "1.2.0",
          "state": {
            "_model_module": "@jupyter-widgets/base",
            "_model_module_version": "1.2.0",
            "_model_name": "LayoutModel",
            "_view_count": null,
            "_view_module": "@jupyter-widgets/base",
            "_view_module_version": "1.2.0",
            "_view_name": "LayoutView",
            "align_content": null,
            "align_items": null,
            "align_self": null,
            "border": null,
            "bottom": null,
            "display": null,
            "flex": null,
            "flex_flow": null,
            "grid_area": null,
            "grid_auto_columns": null,
            "grid_auto_flow": null,
            "grid_auto_rows": null,
            "grid_column": null,
            "grid_gap": null,
            "grid_row": null,
            "grid_template_areas": null,
            "grid_template_columns": null,
            "grid_template_rows": null,
            "height": null,
            "justify_content": null,
            "justify_items": null,
            "left": null,
            "margin": null,
            "max_height": null,
            "max_width": null,
            "min_height": null,
            "min_width": null,
            "object_fit": null,
            "object_position": null,
            "order": null,
            "overflow": null,
            "overflow_x": null,
            "overflow_y": null,
            "padding": null,
            "right": null,
            "top": null,
            "visibility": null,
            "width": null
          }
        },
        "d584391abf5a47a4ab1e1f3c960cb6c7": {
          "model_module": "@jupyter-widgets/base",
          "model_name": "LayoutModel",
          "model_module_version": "1.2.0",
          "state": {
            "_model_module": "@jupyter-widgets/base",
            "_model_module_version": "1.2.0",
            "_model_name": "LayoutModel",
            "_view_count": null,
            "_view_module": "@jupyter-widgets/base",
            "_view_module_version": "1.2.0",
            "_view_name": "LayoutView",
            "align_content": null,
            "align_items": null,
            "align_self": null,
            "border": null,
            "bottom": null,
            "display": null,
            "flex": null,
            "flex_flow": null,
            "grid_area": null,
            "grid_auto_columns": null,
            "grid_auto_flow": null,
            "grid_auto_rows": null,
            "grid_column": null,
            "grid_gap": null,
            "grid_row": null,
            "grid_template_areas": null,
            "grid_template_columns": null,
            "grid_template_rows": null,
            "height": null,
            "justify_content": null,
            "justify_items": null,
            "left": null,
            "margin": null,
            "max_height": null,
            "max_width": null,
            "min_height": null,
            "min_width": null,
            "object_fit": null,
            "object_position": null,
            "order": null,
            "overflow": null,
            "overflow_x": null,
            "overflow_y": null,
            "padding": null,
            "right": null,
            "top": null,
            "visibility": null,
            "width": null
          }
        },
        "80f7c0eca2b3402ea074db417f21ef82": {
          "model_module": "@jupyter-widgets/base",
          "model_name": "LayoutModel",
          "model_module_version": "1.2.0",
          "state": {
            "_model_module": "@jupyter-widgets/base",
            "_model_module_version": "1.2.0",
            "_model_name": "LayoutModel",
            "_view_count": null,
            "_view_module": "@jupyter-widgets/base",
            "_view_module_version": "1.2.0",
            "_view_name": "LayoutView",
            "align_content": null,
            "align_items": null,
            "align_self": null,
            "border": null,
            "bottom": null,
            "display": null,
            "flex": null,
            "flex_flow": null,
            "grid_area": null,
            "grid_auto_columns": null,
            "grid_auto_flow": null,
            "grid_auto_rows": null,
            "grid_column": null,
            "grid_gap": null,
            "grid_row": null,
            "grid_template_areas": null,
            "grid_template_columns": null,
            "grid_template_rows": null,
            "height": null,
            "justify_content": null,
            "justify_items": null,
            "left": null,
            "margin": null,
            "max_height": null,
            "max_width": null,
            "min_height": null,
            "min_width": null,
            "object_fit": null,
            "object_position": null,
            "order": null,
            "overflow": null,
            "overflow_x": null,
            "overflow_y": null,
            "padding": null,
            "right": null,
            "top": null,
            "visibility": null,
            "width": null
          }
        },
        "22be36fd9bac480c8e2f6203b8efc1cf": {
          "model_module": "@jupyter-widgets/controls",
          "model_name": "VBoxModel",
          "model_module_version": "1.5.0",
          "state": {
            "_dom_classes": [],
            "_model_module": "@jupyter-widgets/controls",
            "_model_module_version": "1.5.0",
            "_model_name": "VBoxModel",
            "_view_count": null,
            "_view_module": "@jupyter-widgets/controls",
            "_view_module_version": "1.5.0",
            "_view_name": "VBoxView",
            "box_style": "",
            "children": [
              "IPY_MODEL_9a6a06a514e8432b92020d52b91d3b9d"
            ],
            "layout": "IPY_MODEL_dd32f7c80d1b435e91c71177fc12b0e1"
          }
        },
        "9a6a06a514e8432b92020d52b91d3b9d": {
          "model_module": "@jupyter-widgets/controls",
          "model_name": "VBoxModel",
          "model_module_version": "1.5.0",
          "state": {
            "_dom_classes": [],
            "_model_module": "@jupyter-widgets/controls",
            "_model_module_version": "1.5.0",
            "_model_name": "VBoxModel",
            "_view_count": null,
            "_view_module": "@jupyter-widgets/controls",
            "_view_module_version": "1.5.0",
            "_view_name": "VBoxView",
            "box_style": "",
            "children": [
              "IPY_MODEL_0c484a19267f4a18b75ce60bd3744c48",
              "IPY_MODEL_750a8a1d80b047f8b1d7af92bbd02262",
              "IPY_MODEL_f67bd5a445ae494f9064559d3fcb07b0"
            ],
            "layout": "IPY_MODEL_92300b3bebd14b1c9328a96071a6063a"
          }
        },
        "dd32f7c80d1b435e91c71177fc12b0e1": {
          "model_module": "@jupyter-widgets/base",
          "model_name": "LayoutModel",
          "model_module_version": "1.2.0",
          "state": {
            "_model_module": "@jupyter-widgets/base",
            "_model_module_version": "1.2.0",
            "_model_name": "LayoutModel",
            "_view_count": null,
            "_view_module": "@jupyter-widgets/base",
            "_view_module_version": "1.2.0",
            "_view_name": "LayoutView",
            "align_content": null,
            "align_items": null,
            "align_self": null,
            "border": null,
            "bottom": null,
            "display": null,
            "flex": null,
            "flex_flow": null,
            "grid_area": null,
            "grid_auto_columns": null,
            "grid_auto_flow": null,
            "grid_auto_rows": null,
            "grid_column": null,
            "grid_gap": null,
            "grid_row": null,
            "grid_template_areas": null,
            "grid_template_columns": null,
            "grid_template_rows": null,
            "height": null,
            "justify_content": null,
            "justify_items": null,
            "left": null,
            "margin": null,
            "max_height": null,
            "max_width": null,
            "min_height": null,
            "min_width": null,
            "object_fit": null,
            "object_position": null,
            "order": null,
            "overflow": null,
            "overflow_x": null,
            "overflow_y": null,
            "padding": null,
            "right": null,
            "top": null,
            "visibility": null,
            "width": null
          }
        },
        "0c484a19267f4a18b75ce60bd3744c48": {
          "model_module": "@jupyter-widgets/controls",
          "model_name": "HBoxModel",
          "model_module_version": "1.5.0",
          "state": {
            "_dom_classes": [],
            "_model_module": "@jupyter-widgets/controls",
            "_model_module_version": "1.5.0",
            "_model_name": "HBoxModel",
            "_view_count": null,
            "_view_module": "@jupyter-widgets/controls",
            "_view_module_version": "1.5.0",
            "_view_name": "HBoxView",
            "box_style": "",
            "children": [
              "IPY_MODEL_382d0427fc0b4ce7a2c1a27385a0fb36",
              "IPY_MODEL_c3a6710b335540fc984498feb350d16f",
              "IPY_MODEL_9adfbb3e85504332a4835a6607c91730"
            ],
            "layout": "IPY_MODEL_29b583a6cda746b29b215001eb331637"
          }
        },
        "750a8a1d80b047f8b1d7af92bbd02262": {
          "model_module": "@jupyter-widgets/controls",
          "model_name": "HBoxModel",
          "model_module_version": "1.5.0",
          "state": {
            "_dom_classes": [],
            "_model_module": "@jupyter-widgets/controls",
            "_model_module_version": "1.5.0",
            "_model_name": "HBoxModel",
            "_view_count": null,
            "_view_module": "@jupyter-widgets/controls",
            "_view_module_version": "1.5.0",
            "_view_name": "HBoxView",
            "box_style": "",
            "children": [
              "IPY_MODEL_495bf0c65c794bf18f627eb485f2146e",
              "IPY_MODEL_cc364d34765d4f508d1f07f987b2ab7d"
            ],
            "layout": "IPY_MODEL_9e1b59fea101463c94f70f91446564c0"
          }
        },
        "f67bd5a445ae494f9064559d3fcb07b0": {
          "model_module": "@jupyter-widgets/controls",
          "model_name": "LabelModel",
          "model_module_version": "1.5.0",
          "state": {
            "_dom_classes": [],
            "_model_module": "@jupyter-widgets/controls",
            "_model_module_version": "1.5.0",
            "_model_name": "LabelModel",
            "_view_count": null,
            "_view_module": "@jupyter-widgets/controls",
            "_view_module_version": "1.5.0",
            "_view_name": "LabelView",
            "description": "",
            "description_tooltip": null,
            "layout": "IPY_MODEL_dcd6628d81cd45a3816efe9468432143",
            "placeholder": "​",
            "style": "IPY_MODEL_ec44b2c67cc7422487363dc94a0a93c2",
            "value": "Thanks for your feedback!"
          }
        },
        "92300b3bebd14b1c9328a96071a6063a": {
          "model_module": "@jupyter-widgets/base",
          "model_name": "LayoutModel",
          "model_module_version": "1.2.0",
          "state": {
            "_model_module": "@jupyter-widgets/base",
            "_model_module_version": "1.2.0",
            "_model_name": "LayoutModel",
            "_view_count": null,
            "_view_module": "@jupyter-widgets/base",
            "_view_module_version": "1.2.0",
            "_view_name": "LayoutView",
            "align_content": null,
            "align_items": null,
            "align_self": null,
            "border": null,
            "bottom": null,
            "display": null,
            "flex": null,
            "flex_flow": null,
            "grid_area": null,
            "grid_auto_columns": null,
            "grid_auto_flow": null,
            "grid_auto_rows": null,
            "grid_column": null,
            "grid_gap": null,
            "grid_row": null,
            "grid_template_areas": null,
            "grid_template_columns": null,
            "grid_template_rows": null,
            "height": null,
            "justify_content": null,
            "justify_items": null,
            "left": null,
            "margin": null,
            "max_height": null,
            "max_width": null,
            "min_height": null,
            "min_width": null,
            "object_fit": null,
            "object_position": null,
            "order": null,
            "overflow": null,
            "overflow_x": null,
            "overflow_y": null,
            "padding": null,
            "right": null,
            "top": null,
            "visibility": null,
            "width": null
          }
        },
        "382d0427fc0b4ce7a2c1a27385a0fb36": {
          "model_module": "@jupyter-widgets/controls",
          "model_name": "ButtonModel",
          "model_module_version": "1.5.0",
          "state": {
            "_dom_classes": [
              "happy"
            ],
            "_model_module": "@jupyter-widgets/controls",
            "_model_module_version": "1.5.0",
            "_model_name": "ButtonModel",
            "_view_count": null,
            "_view_module": "@jupyter-widgets/controls",
            "_view_module_version": "1.5.0",
            "_view_name": "ButtonView",
            "button_style": "",
            "description": "🙂",
            "disabled": false,
            "icon": "",
            "layout": "IPY_MODEL_1875a35cd84a41a981812ab99b8f3d5b",
            "style": "IPY_MODEL_a350232d9cde4e4082ade5f2b3605ce4",
            "tooltip": "happy"
          }
        },
        "c3a6710b335540fc984498feb350d16f": {
          "model_module": "@jupyter-widgets/controls",
          "model_name": "ButtonModel",
          "model_module_version": "1.5.0",
          "state": {
            "_dom_classes": [
              "medium"
            ],
            "_model_module": "@jupyter-widgets/controls",
            "_model_module_version": "1.5.0",
            "_model_name": "ButtonModel",
            "_view_count": null,
            "_view_module": "@jupyter-widgets/controls",
            "_view_module_version": "1.5.0",
            "_view_name": "ButtonView",
            "button_style": "",
            "description": "😐",
            "disabled": false,
            "icon": "",
            "layout": "IPY_MODEL_5f1a3decda314902ba83821e11bab508",
            "style": "IPY_MODEL_18fe04b2a43a43b9b8002303ef03ab8d",
            "tooltip": "medium"
          }
        },
        "9adfbb3e85504332a4835a6607c91730": {
          "model_module": "@jupyter-widgets/controls",
          "model_name": "ButtonModel",
          "model_module_version": "1.5.0",
          "state": {
            "_dom_classes": [
              "sad"
            ],
            "_model_module": "@jupyter-widgets/controls",
            "_model_module_version": "1.5.0",
            "_model_name": "ButtonModel",
            "_view_count": null,
            "_view_module": "@jupyter-widgets/controls",
            "_view_module_version": "1.5.0",
            "_view_name": "ButtonView",
            "button_style": "",
            "description": "🙁",
            "disabled": false,
            "icon": "",
            "layout": "IPY_MODEL_ced8c5c3d38240fc88dee727ff94b276",
            "style": "IPY_MODEL_e687ff2e4b0645a4b67bfd174da71ce0",
            "tooltip": "sad"
          }
        },
        "29b583a6cda746b29b215001eb331637": {
          "model_module": "@jupyter-widgets/base",
          "model_name": "LayoutModel",
          "model_module_version": "1.2.0",
          "state": {
            "_model_module": "@jupyter-widgets/base",
            "_model_module_version": "1.2.0",
            "_model_name": "LayoutModel",
            "_view_count": null,
            "_view_module": "@jupyter-widgets/base",
            "_view_module_version": "1.2.0",
            "_view_name": "LayoutView",
            "align_content": null,
            "align_items": null,
            "align_self": null,
            "border": null,
            "bottom": null,
            "display": null,
            "flex": null,
            "flex_flow": null,
            "grid_area": null,
            "grid_auto_columns": null,
            "grid_auto_flow": null,
            "grid_auto_rows": null,
            "grid_column": null,
            "grid_gap": null,
            "grid_row": null,
            "grid_template_areas": null,
            "grid_template_columns": null,
            "grid_template_rows": null,
            "height": null,
            "justify_content": null,
            "justify_items": null,
            "left": null,
            "margin": null,
            "max_height": null,
            "max_width": null,
            "min_height": null,
            "min_width": null,
            "object_fit": null,
            "object_position": null,
            "order": null,
            "overflow": null,
            "overflow_x": null,
            "overflow_y": null,
            "padding": null,
            "right": null,
            "top": null,
            "visibility": null,
            "width": null
          }
        },
        "495bf0c65c794bf18f627eb485f2146e": {
          "model_module": "@jupyter-widgets/controls",
          "model_name": "TextareaModel",
          "model_module_version": "1.5.0",
          "state": {
            "_dom_classes": [],
            "_model_module": "@jupyter-widgets/controls",
            "_model_module_version": "1.5.0",
            "_model_name": "TextareaModel",
            "_view_count": null,
            "_view_module": "@jupyter-widgets/controls",
            "_view_module_version": "1.5.0",
            "_view_name": "TextareaView",
            "continuous_update": true,
            "description": "",
            "description_tooltip": null,
            "disabled": false,
            "layout": "IPY_MODEL_30b9fe8a95974555b047163f2dceaa34",
            "placeholder": "We want your feedback!",
            "rows": null,
            "style": "IPY_MODEL_73f0eabafbf24612ad1da9e7e4a579e7",
            "value": ""
          }
        },
        "cc364d34765d4f508d1f07f987b2ab7d": {
          "model_module": "@jupyter-widgets/controls",
          "model_name": "ButtonModel",
          "model_module_version": "1.5.0",
          "state": {
            "_dom_classes": [],
            "_model_module": "@jupyter-widgets/controls",
            "_model_module_version": "1.5.0",
            "_model_name": "ButtonModel",
            "_view_count": null,
            "_view_module": "@jupyter-widgets/controls",
            "_view_module_version": "1.5.0",
            "_view_name": "ButtonView",
            "button_style": "",
            "description": "Submit",
            "disabled": false,
            "icon": "",
            "layout": "IPY_MODEL_6b820f4ec42f4f33a5c08d781c52546a",
            "style": "IPY_MODEL_b2b78aa782b74bf49790594aab510a87",
            "tooltip": ""
          }
        },
        "9e1b59fea101463c94f70f91446564c0": {
          "model_module": "@jupyter-widgets/base",
          "model_name": "LayoutModel",
          "model_module_version": "1.2.0",
          "state": {
            "_model_module": "@jupyter-widgets/base",
            "_model_module_version": "1.2.0",
            "_model_name": "LayoutModel",
            "_view_count": null,
            "_view_module": "@jupyter-widgets/base",
            "_view_module_version": "1.2.0",
            "_view_name": "LayoutView",
            "align_content": null,
            "align_items": null,
            "align_self": null,
            "border": null,
            "bottom": null,
            "display": "none",
            "flex": null,
            "flex_flow": null,
            "grid_area": null,
            "grid_auto_columns": null,
            "grid_auto_flow": null,
            "grid_auto_rows": null,
            "grid_column": null,
            "grid_gap": null,
            "grid_row": null,
            "grid_template_areas": null,
            "grid_template_columns": null,
            "grid_template_rows": null,
            "height": null,
            "justify_content": null,
            "justify_items": null,
            "left": null,
            "margin": null,
            "max_height": null,
            "max_width": null,
            "min_height": null,
            "min_width": null,
            "object_fit": null,
            "object_position": null,
            "order": null,
            "overflow": null,
            "overflow_x": null,
            "overflow_y": null,
            "padding": null,
            "right": null,
            "top": null,
            "visibility": null,
            "width": null
          }
        },
        "dcd6628d81cd45a3816efe9468432143": {
          "model_module": "@jupyter-widgets/base",
          "model_name": "LayoutModel",
          "model_module_version": "1.2.0",
          "state": {
            "_model_module": "@jupyter-widgets/base",
            "_model_module_version": "1.2.0",
            "_model_name": "LayoutModel",
            "_view_count": null,
            "_view_module": "@jupyter-widgets/base",
            "_view_module_version": "1.2.0",
            "_view_name": "LayoutView",
            "align_content": null,
            "align_items": null,
            "align_self": null,
            "border": null,
            "bottom": null,
            "display": "none",
            "flex": null,
            "flex_flow": null,
            "grid_area": null,
            "grid_auto_columns": null,
            "grid_auto_flow": null,
            "grid_auto_rows": null,
            "grid_column": null,
            "grid_gap": null,
            "grid_row": null,
            "grid_template_areas": null,
            "grid_template_columns": null,
            "grid_template_rows": null,
            "height": null,
            "justify_content": null,
            "justify_items": null,
            "left": null,
            "margin": null,
            "max_height": null,
            "max_width": null,
            "min_height": null,
            "min_width": null,
            "object_fit": null,
            "object_position": null,
            "order": null,
            "overflow": null,
            "overflow_x": null,
            "overflow_y": null,
            "padding": null,
            "right": null,
            "top": null,
            "visibility": null,
            "width": null
          }
        },
        "ec44b2c67cc7422487363dc94a0a93c2": {
          "model_module": "@jupyter-widgets/controls",
          "model_name": "DescriptionStyleModel",
          "model_module_version": "1.5.0",
          "state": {
            "_model_module": "@jupyter-widgets/controls",
            "_model_module_version": "1.5.0",
            "_model_name": "DescriptionStyleModel",
            "_view_count": null,
            "_view_module": "@jupyter-widgets/base",
            "_view_module_version": "1.2.0",
            "_view_name": "StyleView",
            "description_width": ""
          }
        },
        "1875a35cd84a41a981812ab99b8f3d5b": {
          "model_module": "@jupyter-widgets/base",
          "model_name": "LayoutModel",
          "model_module_version": "1.2.0",
          "state": {
            "_model_module": "@jupyter-widgets/base",
            "_model_module_version": "1.2.0",
            "_model_name": "LayoutModel",
            "_view_count": null,
            "_view_module": "@jupyter-widgets/base",
            "_view_module_version": "1.2.0",
            "_view_name": "LayoutView",
            "align_content": null,
            "align_items": null,
            "align_self": null,
            "border": null,
            "bottom": null,
            "display": null,
            "flex": null,
            "flex_flow": null,
            "grid_area": null,
            "grid_auto_columns": null,
            "grid_auto_flow": null,
            "grid_auto_rows": null,
            "grid_column": null,
            "grid_gap": null,
            "grid_row": null,
            "grid_template_areas": null,
            "grid_template_columns": null,
            "grid_template_rows": null,
            "height": "auto",
            "justify_content": null,
            "justify_items": null,
            "left": null,
            "margin": null,
            "max_height": null,
            "max_width": null,
            "min_height": null,
            "min_width": null,
            "object_fit": null,
            "object_position": null,
            "order": null,
            "overflow": null,
            "overflow_x": null,
            "overflow_y": null,
            "padding": "0.5em",
            "right": null,
            "top": null,
            "visibility": null,
            "width": "auto"
          }
        },
        "a350232d9cde4e4082ade5f2b3605ce4": {
          "model_module": "@jupyter-widgets/controls",
          "model_name": "ButtonStyleModel",
          "model_module_version": "1.5.0",
          "state": {
            "_model_module": "@jupyter-widgets/controls",
            "_model_module_version": "1.5.0",
            "_model_name": "ButtonStyleModel",
            "_view_count": null,
            "_view_module": "@jupyter-widgets/base",
            "_view_module_version": "1.2.0",
            "_view_name": "StyleView",
            "button_color": "#aaffaa",
            "font_weight": ""
          }
        },
        "5f1a3decda314902ba83821e11bab508": {
          "model_module": "@jupyter-widgets/base",
          "model_name": "LayoutModel",
          "model_module_version": "1.2.0",
          "state": {
            "_model_module": "@jupyter-widgets/base",
            "_model_module_version": "1.2.0",
            "_model_name": "LayoutModel",
            "_view_count": null,
            "_view_module": "@jupyter-widgets/base",
            "_view_module_version": "1.2.0",
            "_view_name": "LayoutView",
            "align_content": null,
            "align_items": null,
            "align_self": null,
            "border": null,
            "bottom": null,
            "display": null,
            "flex": null,
            "flex_flow": null,
            "grid_area": null,
            "grid_auto_columns": null,
            "grid_auto_flow": null,
            "grid_auto_rows": null,
            "grid_column": null,
            "grid_gap": null,
            "grid_row": null,
            "grid_template_areas": null,
            "grid_template_columns": null,
            "grid_template_rows": null,
            "height": "auto",
            "justify_content": null,
            "justify_items": null,
            "left": null,
            "margin": null,
            "max_height": null,
            "max_width": null,
            "min_height": null,
            "min_width": null,
            "object_fit": null,
            "object_position": null,
            "order": null,
            "overflow": null,
            "overflow_x": null,
            "overflow_y": null,
            "padding": "0.5em",
            "right": null,
            "top": null,
            "visibility": null,
            "width": "auto"
          }
        },
        "18fe04b2a43a43b9b8002303ef03ab8d": {
          "model_module": "@jupyter-widgets/controls",
          "model_name": "ButtonStyleModel",
          "model_module_version": "1.5.0",
          "state": {
            "_model_module": "@jupyter-widgets/controls",
            "_model_module_version": "1.5.0",
            "_model_name": "ButtonStyleModel",
            "_view_count": null,
            "_view_module": "@jupyter-widgets/base",
            "_view_module_version": "1.2.0",
            "_view_name": "StyleView",
            "button_color": "#dddd77",
            "font_weight": ""
          }
        },
        "ced8c5c3d38240fc88dee727ff94b276": {
          "model_module": "@jupyter-widgets/base",
          "model_name": "LayoutModel",
          "model_module_version": "1.2.0",
          "state": {
            "_model_module": "@jupyter-widgets/base",
            "_model_module_version": "1.2.0",
            "_model_name": "LayoutModel",
            "_view_count": null,
            "_view_module": "@jupyter-widgets/base",
            "_view_module_version": "1.2.0",
            "_view_name": "LayoutView",
            "align_content": null,
            "align_items": null,
            "align_self": null,
            "border": null,
            "bottom": null,
            "display": null,
            "flex": null,
            "flex_flow": null,
            "grid_area": null,
            "grid_auto_columns": null,
            "grid_auto_flow": null,
            "grid_auto_rows": null,
            "grid_column": null,
            "grid_gap": null,
            "grid_row": null,
            "grid_template_areas": null,
            "grid_template_columns": null,
            "grid_template_rows": null,
            "height": "auto",
            "justify_content": null,
            "justify_items": null,
            "left": null,
            "margin": null,
            "max_height": null,
            "max_width": null,
            "min_height": null,
            "min_width": null,
            "object_fit": null,
            "object_position": null,
            "order": null,
            "overflow": null,
            "overflow_x": null,
            "overflow_y": null,
            "padding": "0.5em",
            "right": null,
            "top": null,
            "visibility": null,
            "width": "auto"
          }
        },
        "e687ff2e4b0645a4b67bfd174da71ce0": {
          "model_module": "@jupyter-widgets/controls",
          "model_name": "ButtonStyleModel",
          "model_module_version": "1.5.0",
          "state": {
            "_model_module": "@jupyter-widgets/controls",
            "_model_module_version": "1.5.0",
            "_model_name": "ButtonStyleModel",
            "_view_count": null,
            "_view_module": "@jupyter-widgets/base",
            "_view_module_version": "1.2.0",
            "_view_name": "StyleView",
            "button_color": "#ffaaaa",
            "font_weight": ""
          }
        },
        "30b9fe8a95974555b047163f2dceaa34": {
          "model_module": "@jupyter-widgets/base",
          "model_name": "LayoutModel",
          "model_module_version": "1.2.0",
          "state": {
            "_model_module": "@jupyter-widgets/base",
            "_model_module_version": "1.2.0",
            "_model_name": "LayoutModel",
            "_view_count": null,
            "_view_module": "@jupyter-widgets/base",
            "_view_module_version": "1.2.0",
            "_view_name": "LayoutView",
            "align_content": null,
            "align_items": null,
            "align_self": null,
            "border": null,
            "bottom": null,
            "display": null,
            "flex": null,
            "flex_flow": null,
            "grid_area": null,
            "grid_auto_columns": null,
            "grid_auto_flow": null,
            "grid_auto_rows": null,
            "grid_column": null,
            "grid_gap": null,
            "grid_row": null,
            "grid_template_areas": null,
            "grid_template_columns": null,
            "grid_template_rows": null,
            "height": "auto",
            "justify_content": null,
            "justify_items": null,
            "left": null,
            "margin": null,
            "max_height": null,
            "max_width": null,
            "min_height": null,
            "min_width": null,
            "object_fit": null,
            "object_position": null,
            "order": null,
            "overflow": null,
            "overflow_x": null,
            "overflow_y": null,
            "padding": null,
            "right": null,
            "top": null,
            "visibility": null,
            "width": "auto"
          }
        },
        "73f0eabafbf24612ad1da9e7e4a579e7": {
          "model_module": "@jupyter-widgets/controls",
          "model_name": "DescriptionStyleModel",
          "model_module_version": "1.5.0",
          "state": {
            "_model_module": "@jupyter-widgets/controls",
            "_model_module_version": "1.5.0",
            "_model_name": "DescriptionStyleModel",
            "_view_count": null,
            "_view_module": "@jupyter-widgets/base",
            "_view_module_version": "1.2.0",
            "_view_name": "StyleView",
            "description_width": ""
          }
        },
        "6b820f4ec42f4f33a5c08d781c52546a": {
          "model_module": "@jupyter-widgets/base",
          "model_name": "LayoutModel",
          "model_module_version": "1.2.0",
          "state": {
            "_model_module": "@jupyter-widgets/base",
            "_model_module_version": "1.2.0",
            "_model_name": "LayoutModel",
            "_view_count": null,
            "_view_module": "@jupyter-widgets/base",
            "_view_module_version": "1.2.0",
            "_view_name": "LayoutView",
            "align_content": null,
            "align_items": null,
            "align_self": null,
            "border": null,
            "bottom": null,
            "display": null,
            "flex": null,
            "flex_flow": null,
            "grid_area": null,
            "grid_auto_columns": null,
            "grid_auto_flow": null,
            "grid_auto_rows": null,
            "grid_column": null,
            "grid_gap": null,
            "grid_row": null,
            "grid_template_areas": null,
            "grid_template_columns": null,
            "grid_template_rows": null,
            "height": "auto",
            "justify_content": null,
            "justify_items": null,
            "left": null,
            "margin": null,
            "max_height": null,
            "max_width": null,
            "min_height": null,
            "min_width": null,
            "object_fit": null,
            "object_position": null,
            "order": null,
            "overflow": null,
            "overflow_x": null,
            "overflow_y": null,
            "padding": null,
            "right": null,
            "top": null,
            "visibility": null,
            "width": "auto"
          }
        },
        "b2b78aa782b74bf49790594aab510a87": {
          "model_module": "@jupyter-widgets/controls",
          "model_name": "ButtonStyleModel",
          "model_module_version": "1.5.0",
          "state": {
            "_model_module": "@jupyter-widgets/controls",
            "_model_module_version": "1.5.0",
            "_model_name": "ButtonStyleModel",
            "_view_count": null,
            "_view_module": "@jupyter-widgets/base",
            "_view_module_version": "1.2.0",
            "_view_name": "StyleView",
            "button_color": null,
            "font_weight": ""
          }
        },
        "954d2f6f64da4055807a35485b3fb20e": {
          "model_module": "@jupyter-widgets/controls",
          "model_name": "TabModel",
          "model_module_version": "1.5.0",
          "state": {
            "_dom_classes": [],
            "_model_module": "@jupyter-widgets/controls",
            "_model_module_version": "1.5.0",
            "_model_name": "TabModel",
            "_titles": {
              "0": "Youtube",
              "1": "Bilibili"
            },
            "_view_count": null,
            "_view_module": "@jupyter-widgets/controls",
            "_view_module_version": "1.5.0",
            "_view_name": "TabView",
            "box_style": "",
            "children": [
              "IPY_MODEL_ca53a696996047638d673f13dcff8658",
              "IPY_MODEL_c7a02ed69c474fccb76f3c16221df3a8"
            ],
            "layout": "IPY_MODEL_6b4830872c8c4e25a79846baa12f030f",
            "selected_index": 0
          }
        },
        "ca53a696996047638d673f13dcff8658": {
          "model_module": "@jupyter-widgets/output",
          "model_name": "OutputModel",
          "model_module_version": "1.0.0",
          "state": {
            "_dom_classes": [],
            "_model_module": "@jupyter-widgets/output",
            "_model_module_version": "1.0.0",
            "_model_name": "OutputModel",
            "_view_count": null,
            "_view_module": "@jupyter-widgets/output",
            "_view_module_version": "1.0.0",
            "_view_name": "OutputView",
            "layout": "IPY_MODEL_4a751b633d6d44c289d07b4b410a76a7",
            "msg_id": "",
            "outputs": [
              {
                "output_type": "stream",
                "name": "stdout",
                "text": [
                  "Video available at https://youtube.com/watch?v=oHwYWUI_o1U\n"
                ]
              },
              {
                "output_type": "display_data",
                "data": {
                  "text/plain": "<IPython.lib.display.YouTubeVideo at 0x7d33950cc110>",
                  "text/html": "\n        <iframe\n            width=\"854\"\n            height=\"480\"\n            src=\"https://www.youtube.com/embed/oHwYWUI_o1U?fs=1&rel=0\"\n            frameborder=\"0\"\n            allowfullscreen\n            \n        ></iframe>\n        ",
                  "image/jpeg": "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\n"
                },
                "metadata": {}
              }
            ]
          }
        },
        "c7a02ed69c474fccb76f3c16221df3a8": {
          "model_module": "@jupyter-widgets/output",
          "model_name": "OutputModel",
          "model_module_version": "1.0.0",
          "state": {
            "_dom_classes": [],
            "_model_module": "@jupyter-widgets/output",
            "_model_module_version": "1.0.0",
            "_model_name": "OutputModel",
            "_view_count": null,
            "_view_module": "@jupyter-widgets/output",
            "_view_module_version": "1.0.0",
            "_view_name": "OutputView",
            "layout": "IPY_MODEL_ec3ce4c82233484b9209348ba78a78c0",
            "msg_id": "",
            "outputs": [
              {
                "output_type": "stream",
                "name": "stdout",
                "text": [
                  "Video available at https://www.bilibili.com/video/BV1Hp4y1S7Au\n"
                ]
              },
              {
                "output_type": "display_data",
                "data": {
                  "text/plain": "<__main__.PlayVideo at 0x7d3383f5f1d0>",
                  "text/html": "\n        <iframe\n            width=\"854\"\n            height=\"480\"\n            src=\"https://player.bilibili.com/player.html?bvid=BV1Hp4y1S7Au&page=1?fs=1&autoplay=False\"\n            frameborder=\"0\"\n            allowfullscreen\n            \n        ></iframe>\n        "
                },
                "metadata": {}
              }
            ]
          }
        },
        "6b4830872c8c4e25a79846baa12f030f": {
          "model_module": "@jupyter-widgets/base",
          "model_name": "LayoutModel",
          "model_module_version": "1.2.0",
          "state": {
            "_model_module": "@jupyter-widgets/base",
            "_model_module_version": "1.2.0",
            "_model_name": "LayoutModel",
            "_view_count": null,
            "_view_module": "@jupyter-widgets/base",
            "_view_module_version": "1.2.0",
            "_view_name": "LayoutView",
            "align_content": null,
            "align_items": null,
            "align_self": null,
            "border": null,
            "bottom": null,
            "display": null,
            "flex": null,
            "flex_flow": null,
            "grid_area": null,
            "grid_auto_columns": null,
            "grid_auto_flow": null,
            "grid_auto_rows": null,
            "grid_column": null,
            "grid_gap": null,
            "grid_row": null,
            "grid_template_areas": null,
            "grid_template_columns": null,
            "grid_template_rows": null,
            "height": null,
            "justify_content": null,
            "justify_items": null,
            "left": null,
            "margin": null,
            "max_height": null,
            "max_width": null,
            "min_height": null,
            "min_width": null,
            "object_fit": null,
            "object_position": null,
            "order": null,
            "overflow": null,
            "overflow_x": null,
            "overflow_y": null,
            "padding": null,
            "right": null,
            "top": null,
            "visibility": null,
            "width": null
          }
        },
        "4a751b633d6d44c289d07b4b410a76a7": {
          "model_module": "@jupyter-widgets/base",
          "model_name": "LayoutModel",
          "model_module_version": "1.2.0",
          "state": {
            "_model_module": "@jupyter-widgets/base",
            "_model_module_version": "1.2.0",
            "_model_name": "LayoutModel",
            "_view_count": null,
            "_view_module": "@jupyter-widgets/base",
            "_view_module_version": "1.2.0",
            "_view_name": "LayoutView",
            "align_content": null,
            "align_items": null,
            "align_self": null,
            "border": null,
            "bottom": null,
            "display": null,
            "flex": null,
            "flex_flow": null,
            "grid_area": null,
            "grid_auto_columns": null,
            "grid_auto_flow": null,
            "grid_auto_rows": null,
            "grid_column": null,
            "grid_gap": null,
            "grid_row": null,
            "grid_template_areas": null,
            "grid_template_columns": null,
            "grid_template_rows": null,
            "height": null,
            "justify_content": null,
            "justify_items": null,
            "left": null,
            "margin": null,
            "max_height": null,
            "max_width": null,
            "min_height": null,
            "min_width": null,
            "object_fit": null,
            "object_position": null,
            "order": null,
            "overflow": null,
            "overflow_x": null,
            "overflow_y": null,
            "padding": null,
            "right": null,
            "top": null,
            "visibility": null,
            "width": null
          }
        },
        "ec3ce4c82233484b9209348ba78a78c0": {
          "model_module": "@jupyter-widgets/base",
          "model_name": "LayoutModel",
          "model_module_version": "1.2.0",
          "state": {
            "_model_module": "@jupyter-widgets/base",
            "_model_module_version": "1.2.0",
            "_model_name": "LayoutModel",
            "_view_count": null,
            "_view_module": "@jupyter-widgets/base",
            "_view_module_version": "1.2.0",
            "_view_name": "LayoutView",
            "align_content": null,
            "align_items": null,
            "align_self": null,
            "border": null,
            "bottom": null,
            "display": null,
            "flex": null,
            "flex_flow": null,
            "grid_area": null,
            "grid_auto_columns": null,
            "grid_auto_flow": null,
            "grid_auto_rows": null,
            "grid_column": null,
            "grid_gap": null,
            "grid_row": null,
            "grid_template_areas": null,
            "grid_template_columns": null,
            "grid_template_rows": null,
            "height": null,
            "justify_content": null,
            "justify_items": null,
            "left": null,
            "margin": null,
            "max_height": null,
            "max_width": null,
            "min_height": null,
            "min_width": null,
            "object_fit": null,
            "object_position": null,
            "order": null,
            "overflow": null,
            "overflow_x": null,
            "overflow_y": null,
            "padding": null,
            "right": null,
            "top": null,
            "visibility": null,
            "width": null
          }
        },
        "9b505c467aa847c389563d412db03e9d": {
          "model_module": "@jupyter-widgets/controls",
          "model_name": "VBoxModel",
          "model_module_version": "1.5.0",
          "state": {
            "_dom_classes": [],
            "_model_module": "@jupyter-widgets/controls",
            "_model_module_version": "1.5.0",
            "_model_name": "VBoxModel",
            "_view_count": null,
            "_view_module": "@jupyter-widgets/controls",
            "_view_module_version": "1.5.0",
            "_view_name": "VBoxView",
            "box_style": "",
            "children": [
              "IPY_MODEL_b431c022617e49cb8878c91f4a2230e8"
            ],
            "layout": "IPY_MODEL_ee4b09da46f14b34a18031f443120119"
          }
        },
        "b431c022617e49cb8878c91f4a2230e8": {
          "model_module": "@jupyter-widgets/controls",
          "model_name": "VBoxModel",
          "model_module_version": "1.5.0",
          "state": {
            "_dom_classes": [],
            "_model_module": "@jupyter-widgets/controls",
            "_model_module_version": "1.5.0",
            "_model_name": "VBoxModel",
            "_view_count": null,
            "_view_module": "@jupyter-widgets/controls",
            "_view_module_version": "1.5.0",
            "_view_name": "VBoxView",
            "box_style": "",
            "children": [
              "IPY_MODEL_60b40c68b0eb4306b0eb744b6387468c",
              "IPY_MODEL_a2bd43ee312644f7a23e46d61471dec6",
              "IPY_MODEL_2dfdaee41dd946d48f481682fdf9f9f1"
            ],
            "layout": "IPY_MODEL_380b3de7232c4537884208b9949708be"
          }
        },
        "ee4b09da46f14b34a18031f443120119": {
          "model_module": "@jupyter-widgets/base",
          "model_name": "LayoutModel",
          "model_module_version": "1.2.0",
          "state": {
            "_model_module": "@jupyter-widgets/base",
            "_model_module_version": "1.2.0",
            "_model_name": "LayoutModel",
            "_view_count": null,
            "_view_module": "@jupyter-widgets/base",
            "_view_module_version": "1.2.0",
            "_view_name": "LayoutView",
            "align_content": null,
            "align_items": null,
            "align_self": null,
            "border": null,
            "bottom": null,
            "display": null,
            "flex": null,
            "flex_flow": null,
            "grid_area": null,
            "grid_auto_columns": null,
            "grid_auto_flow": null,
            "grid_auto_rows": null,
            "grid_column": null,
            "grid_gap": null,
            "grid_row": null,
            "grid_template_areas": null,
            "grid_template_columns": null,
            "grid_template_rows": null,
            "height": null,
            "justify_content": null,
            "justify_items": null,
            "left": null,
            "margin": null,
            "max_height": null,
            "max_width": null,
            "min_height": null,
            "min_width": null,
            "object_fit": null,
            "object_position": null,
            "order": null,
            "overflow": null,
            "overflow_x": null,
            "overflow_y": null,
            "padding": null,
            "right": null,
            "top": null,
            "visibility": null,
            "width": null
          }
        },
        "60b40c68b0eb4306b0eb744b6387468c": {
          "model_module": "@jupyter-widgets/controls",
          "model_name": "HBoxModel",
          "model_module_version": "1.5.0",
          "state": {
            "_dom_classes": [],
            "_model_module": "@jupyter-widgets/controls",
            "_model_module_version": "1.5.0",
            "_model_name": "HBoxModel",
            "_view_count": null,
            "_view_module": "@jupyter-widgets/controls",
            "_view_module_version": "1.5.0",
            "_view_name": "HBoxView",
            "box_style": "",
            "children": [
              "IPY_MODEL_aa1d0412ee0d42e99de13981cbe377f3",
              "IPY_MODEL_863541c101b44376861d0513d25ee609",
              "IPY_MODEL_c6d74c99fb46445cb7c33431d9337c30"
            ],
            "layout": "IPY_MODEL_99f805f199664d13b6d53bc287adbf31"
          }
        },
        "a2bd43ee312644f7a23e46d61471dec6": {
          "model_module": "@jupyter-widgets/controls",
          "model_name": "HBoxModel",
          "model_module_version": "1.5.0",
          "state": {
            "_dom_classes": [],
            "_model_module": "@jupyter-widgets/controls",
            "_model_module_version": "1.5.0",
            "_model_name": "HBoxModel",
            "_view_count": null,
            "_view_module": "@jupyter-widgets/controls",
            "_view_module_version": "1.5.0",
            "_view_name": "HBoxView",
            "box_style": "",
            "children": [
              "IPY_MODEL_22f76c95c73a4b61a278860589415342",
              "IPY_MODEL_027c6e319ec740b3a2de331d94ed8e33"
            ],
            "layout": "IPY_MODEL_154c1b79e79e457296bb99e86dd29b07"
          }
        },
        "2dfdaee41dd946d48f481682fdf9f9f1": {
          "model_module": "@jupyter-widgets/controls",
          "model_name": "LabelModel",
          "model_module_version": "1.5.0",
          "state": {
            "_dom_classes": [],
            "_model_module": "@jupyter-widgets/controls",
            "_model_module_version": "1.5.0",
            "_model_name": "LabelModel",
            "_view_count": null,
            "_view_module": "@jupyter-widgets/controls",
            "_view_module_version": "1.5.0",
            "_view_name": "LabelView",
            "description": "",
            "description_tooltip": null,
            "layout": "IPY_MODEL_b975d583ff884c42aa2fed5cdce5423a",
            "placeholder": "​",
            "style": "IPY_MODEL_4f2ab2de489f42c383f83ef68f92f3d9",
            "value": "Thanks for your feedback!"
          }
        },
        "380b3de7232c4537884208b9949708be": {
          "model_module": "@jupyter-widgets/base",
          "model_name": "LayoutModel",
          "model_module_version": "1.2.0",
          "state": {
            "_model_module": "@jupyter-widgets/base",
            "_model_module_version": "1.2.0",
            "_model_name": "LayoutModel",
            "_view_count": null,
            "_view_module": "@jupyter-widgets/base",
            "_view_module_version": "1.2.0",
            "_view_name": "LayoutView",
            "align_content": null,
            "align_items": null,
            "align_self": null,
            "border": null,
            "bottom": null,
            "display": null,
            "flex": null,
            "flex_flow": null,
            "grid_area": null,
            "grid_auto_columns": null,
            "grid_auto_flow": null,
            "grid_auto_rows": null,
            "grid_column": null,
            "grid_gap": null,
            "grid_row": null,
            "grid_template_areas": null,
            "grid_template_columns": null,
            "grid_template_rows": null,
            "height": null,
            "justify_content": null,
            "justify_items": null,
            "left": null,
            "margin": null,
            "max_height": null,
            "max_width": null,
            "min_height": null,
            "min_width": null,
            "object_fit": null,
            "object_position": null,
            "order": null,
            "overflow": null,
            "overflow_x": null,
            "overflow_y": null,
            "padding": null,
            "right": null,
            "top": null,
            "visibility": null,
            "width": null
          }
        },
        "aa1d0412ee0d42e99de13981cbe377f3": {
          "model_module": "@jupyter-widgets/controls",
          "model_name": "ButtonModel",
          "model_module_version": "1.5.0",
          "state": {
            "_dom_classes": [
              "happy"
            ],
            "_model_module": "@jupyter-widgets/controls",
            "_model_module_version": "1.5.0",
            "_model_name": "ButtonModel",
            "_view_count": null,
            "_view_module": "@jupyter-widgets/controls",
            "_view_module_version": "1.5.0",
            "_view_name": "ButtonView",
            "button_style": "",
            "description": "🙂",
            "disabled": false,
            "icon": "",
            "layout": "IPY_MODEL_34fb8c26cefc4dde91a74c988f846c32",
            "style": "IPY_MODEL_55c3f9ee23b54e43aa1538f9744067bb",
            "tooltip": "happy"
          }
        },
        "863541c101b44376861d0513d25ee609": {
          "model_module": "@jupyter-widgets/controls",
          "model_name": "ButtonModel",
          "model_module_version": "1.5.0",
          "state": {
            "_dom_classes": [
              "medium"
            ],
            "_model_module": "@jupyter-widgets/controls",
            "_model_module_version": "1.5.0",
            "_model_name": "ButtonModel",
            "_view_count": null,
            "_view_module": "@jupyter-widgets/controls",
            "_view_module_version": "1.5.0",
            "_view_name": "ButtonView",
            "button_style": "",
            "description": "😐",
            "disabled": false,
            "icon": "",
            "layout": "IPY_MODEL_5eae4da9cfc74fdb9ef5b75b05e800cd",
            "style": "IPY_MODEL_3dc0a06a4fad4484a531622e6e8d49f1",
            "tooltip": "medium"
          }
        },
        "c6d74c99fb46445cb7c33431d9337c30": {
          "model_module": "@jupyter-widgets/controls",
          "model_name": "ButtonModel",
          "model_module_version": "1.5.0",
          "state": {
            "_dom_classes": [
              "sad"
            ],
            "_model_module": "@jupyter-widgets/controls",
            "_model_module_version": "1.5.0",
            "_model_name": "ButtonModel",
            "_view_count": null,
            "_view_module": "@jupyter-widgets/controls",
            "_view_module_version": "1.5.0",
            "_view_name": "ButtonView",
            "button_style": "",
            "description": "🙁",
            "disabled": false,
            "icon": "",
            "layout": "IPY_MODEL_470605e906424bc789c970971912e2af",
            "style": "IPY_MODEL_45016aa7a6114f06a3bf4f8ace1cd1f4",
            "tooltip": "sad"
          }
        },
        "99f805f199664d13b6d53bc287adbf31": {
          "model_module": "@jupyter-widgets/base",
          "model_name": "LayoutModel",
          "model_module_version": "1.2.0",
          "state": {
            "_model_module": "@jupyter-widgets/base",
            "_model_module_version": "1.2.0",
            "_model_name": "LayoutModel",
            "_view_count": null,
            "_view_module": "@jupyter-widgets/base",
            "_view_module_version": "1.2.0",
            "_view_name": "LayoutView",
            "align_content": null,
            "align_items": null,
            "align_self": null,
            "border": null,
            "bottom": null,
            "display": null,
            "flex": null,
            "flex_flow": null,
            "grid_area": null,
            "grid_auto_columns": null,
            "grid_auto_flow": null,
            "grid_auto_rows": null,
            "grid_column": null,
            "grid_gap": null,
            "grid_row": null,
            "grid_template_areas": null,
            "grid_template_columns": null,
            "grid_template_rows": null,
            "height": null,
            "justify_content": null,
            "justify_items": null,
            "left": null,
            "margin": null,
            "max_height": null,
            "max_width": null,
            "min_height": null,
            "min_width": null,
            "object_fit": null,
            "object_position": null,
            "order": null,
            "overflow": null,
            "overflow_x": null,
            "overflow_y": null,
            "padding": null,
            "right": null,
            "top": null,
            "visibility": null,
            "width": null
          }
        },
        "22f76c95c73a4b61a278860589415342": {
          "model_module": "@jupyter-widgets/controls",
          "model_name": "TextareaModel",
          "model_module_version": "1.5.0",
          "state": {
            "_dom_classes": [],
            "_model_module": "@jupyter-widgets/controls",
            "_model_module_version": "1.5.0",
            "_model_name": "TextareaModel",
            "_view_count": null,
            "_view_module": "@jupyter-widgets/controls",
            "_view_module_version": "1.5.0",
            "_view_name": "TextareaView",
            "continuous_update": true,
            "description": "",
            "description_tooltip": null,
            "disabled": false,
            "layout": "IPY_MODEL_5f3b51c5cba540c9a8615b7643183dc3",
            "placeholder": "We want your feedback!",
            "rows": null,
            "style": "IPY_MODEL_502ad9ce0e464377a1ee5179dbc7675c",
            "value": ""
          }
        },
        "027c6e319ec740b3a2de331d94ed8e33": {
          "model_module": "@jupyter-widgets/controls",
          "model_name": "ButtonModel",
          "model_module_version": "1.5.0",
          "state": {
            "_dom_classes": [],
            "_model_module": "@jupyter-widgets/controls",
            "_model_module_version": "1.5.0",
            "_model_name": "ButtonModel",
            "_view_count": null,
            "_view_module": "@jupyter-widgets/controls",
            "_view_module_version": "1.5.0",
            "_view_name": "ButtonView",
            "button_style": "",
            "description": "Submit",
            "disabled": false,
            "icon": "",
            "layout": "IPY_MODEL_cb77dca3789f4632bdbf095321c8ecff",
            "style": "IPY_MODEL_1baa19aa585149b3babd85fe7c3705e3",
            "tooltip": ""
          }
        },
        "154c1b79e79e457296bb99e86dd29b07": {
          "model_module": "@jupyter-widgets/base",
          "model_name": "LayoutModel",
          "model_module_version": "1.2.0",
          "state": {
            "_model_module": "@jupyter-widgets/base",
            "_model_module_version": "1.2.0",
            "_model_name": "LayoutModel",
            "_view_count": null,
            "_view_module": "@jupyter-widgets/base",
            "_view_module_version": "1.2.0",
            "_view_name": "LayoutView",
            "align_content": null,
            "align_items": null,
            "align_self": null,
            "border": null,
            "bottom": null,
            "display": "none",
            "flex": null,
            "flex_flow": null,
            "grid_area": null,
            "grid_auto_columns": null,
            "grid_auto_flow": null,
            "grid_auto_rows": null,
            "grid_column": null,
            "grid_gap": null,
            "grid_row": null,
            "grid_template_areas": null,
            "grid_template_columns": null,
            "grid_template_rows": null,
            "height": null,
            "justify_content": null,
            "justify_items": null,
            "left": null,
            "margin": null,
            "max_height": null,
            "max_width": null,
            "min_height": null,
            "min_width": null,
            "object_fit": null,
            "object_position": null,
            "order": null,
            "overflow": null,
            "overflow_x": null,
            "overflow_y": null,
            "padding": null,
            "right": null,
            "top": null,
            "visibility": null,
            "width": null
          }
        },
        "b975d583ff884c42aa2fed5cdce5423a": {
          "model_module": "@jupyter-widgets/base",
          "model_name": "LayoutModel",
          "model_module_version": "1.2.0",
          "state": {
            "_model_module": "@jupyter-widgets/base",
            "_model_module_version": "1.2.0",
            "_model_name": "LayoutModel",
            "_view_count": null,
            "_view_module": "@jupyter-widgets/base",
            "_view_module_version": "1.2.0",
            "_view_name": "LayoutView",
            "align_content": null,
            "align_items": null,
            "align_self": null,
            "border": null,
            "bottom": null,
            "display": "none",
            "flex": null,
            "flex_flow": null,
            "grid_area": null,
            "grid_auto_columns": null,
            "grid_auto_flow": null,
            "grid_auto_rows": null,
            "grid_column": null,
            "grid_gap": null,
            "grid_row": null,
            "grid_template_areas": null,
            "grid_template_columns": null,
            "grid_template_rows": null,
            "height": null,
            "justify_content": null,
            "justify_items": null,
            "left": null,
            "margin": null,
            "max_height": null,
            "max_width": null,
            "min_height": null,
            "min_width": null,
            "object_fit": null,
            "object_position": null,
            "order": null,
            "overflow": null,
            "overflow_x": null,
            "overflow_y": null,
            "padding": null,
            "right": null,
            "top": null,
            "visibility": null,
            "width": null
          }
        },
        "4f2ab2de489f42c383f83ef68f92f3d9": {
          "model_module": "@jupyter-widgets/controls",
          "model_name": "DescriptionStyleModel",
          "model_module_version": "1.5.0",
          "state": {
            "_model_module": "@jupyter-widgets/controls",
            "_model_module_version": "1.5.0",
            "_model_name": "DescriptionStyleModel",
            "_view_count": null,
            "_view_module": "@jupyter-widgets/base",
            "_view_module_version": "1.2.0",
            "_view_name": "StyleView",
            "description_width": ""
          }
        },
        "34fb8c26cefc4dde91a74c988f846c32": {
          "model_module": "@jupyter-widgets/base",
          "model_name": "LayoutModel",
          "model_module_version": "1.2.0",
          "state": {
            "_model_module": "@jupyter-widgets/base",
            "_model_module_version": "1.2.0",
            "_model_name": "LayoutModel",
            "_view_count": null,
            "_view_module": "@jupyter-widgets/base",
            "_view_module_version": "1.2.0",
            "_view_name": "LayoutView",
            "align_content": null,
            "align_items": null,
            "align_self": null,
            "border": null,
            "bottom": null,
            "display": null,
            "flex": null,
            "flex_flow": null,
            "grid_area": null,
            "grid_auto_columns": null,
            "grid_auto_flow": null,
            "grid_auto_rows": null,
            "grid_column": null,
            "grid_gap": null,
            "grid_row": null,
            "grid_template_areas": null,
            "grid_template_columns": null,
            "grid_template_rows": null,
            "height": "auto",
            "justify_content": null,
            "justify_items": null,
            "left": null,
            "margin": null,
            "max_height": null,
            "max_width": null,
            "min_height": null,
            "min_width": null,
            "object_fit": null,
            "object_position": null,
            "order": null,
            "overflow": null,
            "overflow_x": null,
            "overflow_y": null,
            "padding": "0.5em",
            "right": null,
            "top": null,
            "visibility": null,
            "width": "auto"
          }
        },
        "55c3f9ee23b54e43aa1538f9744067bb": {
          "model_module": "@jupyter-widgets/controls",
          "model_name": "ButtonStyleModel",
          "model_module_version": "1.5.0",
          "state": {
            "_model_module": "@jupyter-widgets/controls",
            "_model_module_version": "1.5.0",
            "_model_name": "ButtonStyleModel",
            "_view_count": null,
            "_view_module": "@jupyter-widgets/base",
            "_view_module_version": "1.2.0",
            "_view_name": "StyleView",
            "button_color": "#aaffaa",
            "font_weight": ""
          }
        },
        "5eae4da9cfc74fdb9ef5b75b05e800cd": {
          "model_module": "@jupyter-widgets/base",
          "model_name": "LayoutModel",
          "model_module_version": "1.2.0",
          "state": {
            "_model_module": "@jupyter-widgets/base",
            "_model_module_version": "1.2.0",
            "_model_name": "LayoutModel",
            "_view_count": null,
            "_view_module": "@jupyter-widgets/base",
            "_view_module_version": "1.2.0",
            "_view_name": "LayoutView",
            "align_content": null,
            "align_items": null,
            "align_self": null,
            "border": null,
            "bottom": null,
            "display": null,
            "flex": null,
            "flex_flow": null,
            "grid_area": null,
            "grid_auto_columns": null,
            "grid_auto_flow": null,
            "grid_auto_rows": null,
            "grid_column": null,
            "grid_gap": null,
            "grid_row": null,
            "grid_template_areas": null,
            "grid_template_columns": null,
            "grid_template_rows": null,
            "height": "auto",
            "justify_content": null,
            "justify_items": null,
            "left": null,
            "margin": null,
            "max_height": null,
            "max_width": null,
            "min_height": null,
            "min_width": null,
            "object_fit": null,
            "object_position": null,
            "order": null,
            "overflow": null,
            "overflow_x": null,
            "overflow_y": null,
            "padding": "0.5em",
            "right": null,
            "top": null,
            "visibility": null,
            "width": "auto"
          }
        },
        "3dc0a06a4fad4484a531622e6e8d49f1": {
          "model_module": "@jupyter-widgets/controls",
          "model_name": "ButtonStyleModel",
          "model_module_version": "1.5.0",
          "state": {
            "_model_module": "@jupyter-widgets/controls",
            "_model_module_version": "1.5.0",
            "_model_name": "ButtonStyleModel",
            "_view_count": null,
            "_view_module": "@jupyter-widgets/base",
            "_view_module_version": "1.2.0",
            "_view_name": "StyleView",
            "button_color": "#dddd77",
            "font_weight": ""
          }
        },
        "470605e906424bc789c970971912e2af": {
          "model_module": "@jupyter-widgets/base",
          "model_name": "LayoutModel",
          "model_module_version": "1.2.0",
          "state": {
            "_model_module": "@jupyter-widgets/base",
            "_model_module_version": "1.2.0",
            "_model_name": "LayoutModel",
            "_view_count": null,
            "_view_module": "@jupyter-widgets/base",
            "_view_module_version": "1.2.0",
            "_view_name": "LayoutView",
            "align_content": null,
            "align_items": null,
            "align_self": null,
            "border": null,
            "bottom": null,
            "display": null,
            "flex": null,
            "flex_flow": null,
            "grid_area": null,
            "grid_auto_columns": null,
            "grid_auto_flow": null,
            "grid_auto_rows": null,
            "grid_column": null,
            "grid_gap": null,
            "grid_row": null,
            "grid_template_areas": null,
            "grid_template_columns": null,
            "grid_template_rows": null,
            "height": "auto",
            "justify_content": null,
            "justify_items": null,
            "left": null,
            "margin": null,
            "max_height": null,
            "max_width": null,
            "min_height": null,
            "min_width": null,
            "object_fit": null,
            "object_position": null,
            "order": null,
            "overflow": null,
            "overflow_x": null,
            "overflow_y": null,
            "padding": "0.5em",
            "right": null,
            "top": null,
            "visibility": null,
            "width": "auto"
          }
        },
        "45016aa7a6114f06a3bf4f8ace1cd1f4": {
          "model_module": "@jupyter-widgets/controls",
          "model_name": "ButtonStyleModel",
          "model_module_version": "1.5.0",
          "state": {
            "_model_module": "@jupyter-widgets/controls",
            "_model_module_version": "1.5.0",
            "_model_name": "ButtonStyleModel",
            "_view_count": null,
            "_view_module": "@jupyter-widgets/base",
            "_view_module_version": "1.2.0",
            "_view_name": "StyleView",
            "button_color": "#ffaaaa",
            "font_weight": ""
          }
        },
        "5f3b51c5cba540c9a8615b7643183dc3": {
          "model_module": "@jupyter-widgets/base",
          "model_name": "LayoutModel",
          "model_module_version": "1.2.0",
          "state": {
            "_model_module": "@jupyter-widgets/base",
            "_model_module_version": "1.2.0",
            "_model_name": "LayoutModel",
            "_view_count": null,
            "_view_module": "@jupyter-widgets/base",
            "_view_module_version": "1.2.0",
            "_view_name": "LayoutView",
            "align_content": null,
            "align_items": null,
            "align_self": null,
            "border": null,
            "bottom": null,
            "display": null,
            "flex": null,
            "flex_flow": null,
            "grid_area": null,
            "grid_auto_columns": null,
            "grid_auto_flow": null,
            "grid_auto_rows": null,
            "grid_column": null,
            "grid_gap": null,
            "grid_row": null,
            "grid_template_areas": null,
            "grid_template_columns": null,
            "grid_template_rows": null,
            "height": "auto",
            "justify_content": null,
            "justify_items": null,
            "left": null,
            "margin": null,
            "max_height": null,
            "max_width": null,
            "min_height": null,
            "min_width": null,
            "object_fit": null,
            "object_position": null,
            "order": null,
            "overflow": null,
            "overflow_x": null,
            "overflow_y": null,
            "padding": null,
            "right": null,
            "top": null,
            "visibility": null,
            "width": "auto"
          }
        },
        "502ad9ce0e464377a1ee5179dbc7675c": {
          "model_module": "@jupyter-widgets/controls",
          "model_name": "DescriptionStyleModel",
          "model_module_version": "1.5.0",
          "state": {
            "_model_module": "@jupyter-widgets/controls",
            "_model_module_version": "1.5.0",
            "_model_name": "DescriptionStyleModel",
            "_view_count": null,
            "_view_module": "@jupyter-widgets/base",
            "_view_module_version": "1.2.0",
            "_view_name": "StyleView",
            "description_width": ""
          }
        },
        "cb77dca3789f4632bdbf095321c8ecff": {
          "model_module": "@jupyter-widgets/base",
          "model_name": "LayoutModel",
          "model_module_version": "1.2.0",
          "state": {
            "_model_module": "@jupyter-widgets/base",
            "_model_module_version": "1.2.0",
            "_model_name": "LayoutModel",
            "_view_count": null,
            "_view_module": "@jupyter-widgets/base",
            "_view_module_version": "1.2.0",
            "_view_name": "LayoutView",
            "align_content": null,
            "align_items": null,
            "align_self": null,
            "border": null,
            "bottom": null,
            "display": null,
            "flex": null,
            "flex_flow": null,
            "grid_area": null,
            "grid_auto_columns": null,
            "grid_auto_flow": null,
            "grid_auto_rows": null,
            "grid_column": null,
            "grid_gap": null,
            "grid_row": null,
            "grid_template_areas": null,
            "grid_template_columns": null,
            "grid_template_rows": null,
            "height": "auto",
            "justify_content": null,
            "justify_items": null,
            "left": null,
            "margin": null,
            "max_height": null,
            "max_width": null,
            "min_height": null,
            "min_width": null,
            "object_fit": null,
            "object_position": null,
            "order": null,
            "overflow": null,
            "overflow_x": null,
            "overflow_y": null,
            "padding": null,
            "right": null,
            "top": null,
            "visibility": null,
            "width": "auto"
          }
        },
        "1baa19aa585149b3babd85fe7c3705e3": {
          "model_module": "@jupyter-widgets/controls",
          "model_name": "ButtonStyleModel",
          "model_module_version": "1.5.0",
          "state": {
            "_model_module": "@jupyter-widgets/controls",
            "_model_module_version": "1.5.0",
            "_model_name": "ButtonStyleModel",
            "_view_count": null,
            "_view_module": "@jupyter-widgets/base",
            "_view_module_version": "1.2.0",
            "_view_name": "StyleView",
            "button_color": null,
            "font_weight": ""
          }
        }
      }
    }
  },
  "nbformat": 4,
  "nbformat_minor": 0
}